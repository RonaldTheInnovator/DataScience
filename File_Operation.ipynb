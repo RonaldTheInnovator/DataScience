{
 "cells": [
  {
   "cell_type": "code",
   "execution_count": 9,
   "id": "0b5191c4-92d3-47b3-96a8-56dbac3a4545",
   "metadata": {},
   "outputs": [
    {
     "data": {
      "text/plain": [
       "'I love programming'"
      ]
     },
     "execution_count": 9,
     "metadata": {},
     "output_type": "execute_result"
    }
   ],
   "source": [
    "file.read()"
   ]
  },
  {
   "cell_type": "code",
   "execution_count": 8,
   "id": "90091504-4389-48a4-b3fb-b8a63c4cce72",
   "metadata": {},
   "outputs": [],
   "source": [
    "file = open('message.txt')"
   ]
  },
  {
   "cell_type": "code",
   "execution_count": 26,
   "id": "0a2451f1-c39c-44c0-846b-2a7bfc00270a",
   "metadata": {},
   "outputs": [],
   "source": [
    "# read mode\n",
    "file = open('message.txt', 'r')"
   ]
  },
  {
   "cell_type": "code",
   "execution_count": 11,
   "id": "c0f5c12d-6eab-4e89-8f73-2fdd40599562",
   "metadata": {},
   "outputs": [],
   "source": [
    "# write mode\n",
    "file =open('message.txt','w')"
   ]
  },
  {
   "cell_type": "code",
   "execution_count": 24,
   "id": "086ce6ae-ef7f-4688-8899-34b02e32f586",
   "metadata": {},
   "outputs": [],
   "source": [
    "# Append Mode\n",
    "file = open('message.txt','a')"
   ]
  },
  {
   "cell_type": "code",
   "execution_count": null,
   "id": "9858c196-3b6d-41e5-8125-dca21065a7cb",
   "metadata": {},
   "outputs": [],
   "source": []
  },
  {
   "cell_type": "code",
   "execution_count": 25,
   "id": "2dd1adbc-157e-4d2e-a90c-68b8eced6bcf",
   "metadata": {},
   "outputs": [
    {
     "data": {
      "text/plain": [
       "42"
      ]
     },
     "execution_count": 25,
     "metadata": {},
     "output_type": "execute_result"
    }
   ],
   "source": [
    "file.write('/n I want to become a great data scientist')"
   ]
  },
  {
   "cell_type": "code",
   "execution_count": 27,
   "id": "3bb9c25c-d051-4fac-a616-7b235d7b53f7",
   "metadata": {},
   "outputs": [
    {
     "name": "stdout",
     "output_type": "stream",
     "text": [
      "I also love javascriptI love programming/n I want to become a great data scientist\n"
     ]
    }
   ],
   "source": [
    "print(file.read())"
   ]
  },
  {
   "cell_type": "code",
   "execution_count": null,
   "id": "622ec40d-813b-42e2-9469-3adf07927c96",
   "metadata": {},
   "outputs": [],
   "source": []
  }
 ],
 "metadata": {
  "kernelspec": {
   "display_name": "Python [conda env:base]",
   "language": "python",
   "name": "python3"
  },
  "language_info": {
   "codemirror_mode": {
    "name": "ipython",
    "version": 3
   },
   "file_extension": ".py",
   "mimetype": "text/x-python",
   "name": "python",
   "nbconvert_exporter": "python",
   "pygments_lexer": "ipython3",
   "version": "3.13.5"
  }
 },
 "nbformat": 4,
 "nbformat_minor": 5
}
