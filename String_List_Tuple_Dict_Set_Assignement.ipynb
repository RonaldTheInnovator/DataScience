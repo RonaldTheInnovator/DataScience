{
 "cells": [
  {
   "cell_type": "markdown",
   "id": "ee60f2af-aceb-4b0c-b8f2-01896b04a7c4",
   "metadata": {},
   "source": [
    "1. Create a string variable and print its length."
   ]
  },
  {
   "cell_type": "code",
   "execution_count": 1,
   "id": "6a4341a6-e544-4537-a748-f66bf3178983",
   "metadata": {},
   "outputs": [
    {
     "name": "stdout",
     "output_type": "stream",
     "text": [
      "6\n"
     ]
    }
   ],
   "source": [
    "name = \"Ronald\"\n",
    "print(len(name))"
   ]
  },
  {
   "cell_type": "markdown",
   "id": "22af7516-f7df-4db8-9c8f-2782783a52db",
   "metadata": {},
   "source": [
    "2. Take a string input from the user and print it in reverse."
   ]
  },
  {
   "cell_type": "code",
   "execution_count": 3,
   "id": "36b2ef34-962b-4e55-9690-9139d36912af",
   "metadata": {},
   "outputs": [
    {
     "name": "stdin",
     "output_type": "stream",
     "text": [
      "What is your name? Ronald\n"
     ]
    },
    {
     "name": "stdout",
     "output_type": "stream",
     "text": [
      "Reversed String: dlanoR\n"
     ]
    }
   ],
   "source": [
    "name1 = input('What is your name?')\n",
    "reversed_string = name1[::-1]\n",
    "print(\"Reversed String:\", reversed_string)"
   ]
  },
  {
   "cell_type": "markdown",
   "id": "53ede39a-80fa-4f38-8f39-29955e80ece0",
   "metadata": {},
   "source": [
    "3. Replace all occurrences of \"a\" with \"@\" in a given string."
   ]
  },
  {
   "cell_type": "code",
   "execution_count": 4,
   "id": "abd629f7-af6b-42b5-9d04-11e172cb7e83",
   "metadata": {},
   "outputs": [
    {
     "name": "stdin",
     "output_type": "stream",
     "text": [
      "Enter a string:  Ronald\n"
     ]
    },
    {
     "name": "stdout",
     "output_type": "stream",
     "text": [
      "Modified string: Ron@ld\n"
     ]
    }
   ],
   "source": [
    "# Take string input from the user\n",
    "user_input = input(\"Enter a string: \")\n",
    "\n",
    "# Replace all occurrences of 'a' with '@'\n",
    "modified_string = user_input.replace(\"a\", \"@\")\n",
    "\n",
    "# Print the modified string\n",
    "print(\"Modified string:\", modified_string)\n"
   ]
  },
  {
   "cell_type": "markdown",
   "id": "621ad0d1-eb77-4b82-9811-8bf8820b2874",
   "metadata": {},
   "source": [
    "4. Convert a string to all uppercase letters using a loop (without .upper())."
   ]
  },
  {
   "cell_type": "code",
   "execution_count": 5,
   "id": "2c010b1b-51fd-47f2-b135-b3f819425f29",
   "metadata": {},
   "outputs": [
    {
     "name": "stdin",
     "output_type": "stream",
     "text": [
      "Enter a string:  ronald\n"
     ]
    },
    {
     "name": "stdout",
     "output_type": "stream",
     "text": [
      "Uppercase string: RONALD\n"
     ]
    }
   ],
   "source": [
    "# Take string input from the user\n",
    "user_input = input(\"Enter a string: \")\n",
    "\n",
    "result = \"\"\n",
    "for char in user_input:\n",
    "    # Check if char is a lowercase letter (a-z)\n",
    "    if 'a' <= char <= 'z':\n",
    "        # Convert to uppercase by subtracting 32 from ASCII code\n",
    "        result += chr(ord(char) - 32)\n",
    "    else:\n",
    "        # Keep character as is\n",
    "        result += char\n",
    "\n",
    "print(\"Uppercase string:\", result)\n"
   ]
  },
  {
   "cell_type": "markdown",
   "id": "862a286e-4f76-4320-9ad5-99428ccd56e2",
   "metadata": {},
   "source": [
    "5. Count how many times the letter \"e\" appears in a string."
   ]
  },
  {
   "cell_type": "code",
   "execution_count": 6,
   "id": "bd02f081-397e-4372-92b7-611e0665223b",
   "metadata": {},
   "outputs": [
    {
     "name": "stdin",
     "output_type": "stream",
     "text": [
      "Enter a string:  year\n"
     ]
    },
    {
     "name": "stdout",
     "output_type": "stream",
     "text": [
      "The letter 'e' appears 1 times.\n"
     ]
    }
   ],
   "source": [
    "# Take string input from the user\n",
    "user_input = input(\"Enter a string: \")\n",
    "\n",
    "count_e = 0\n",
    "for char in user_input:\n",
    "    if char == \"e\":\n",
    "        count_e += 1\n",
    "\n",
    "print(f\"The letter 'e' appears {count_e} times.\")\n"
   ]
  },
  {
   "cell_type": "markdown",
   "id": "5ed2fa09-3bea-49fb-94c0-bbb93a2469c6",
   "metadata": {},
   "source": [
    "6. Print the first and last character of a given string."
   ]
  },
  {
   "cell_type": "code",
   "execution_count": 7,
   "id": "2b6bd6ec-66fe-45bb-8d82-cb8bd80fc777",
   "metadata": {},
   "outputs": [
    {
     "name": "stdin",
     "output_type": "stream",
     "text": [
      "Enter a string:  Ronald2\n"
     ]
    },
    {
     "name": "stdout",
     "output_type": "stream",
     "text": [
      "First character: R\n",
      "Last character: 2\n"
     ]
    }
   ],
   "source": [
    "# Take string input from the user\n",
    "user_input = input(\"Enter a string: \")\n",
    "\n",
    "# Check if string is not empty\n",
    "if len(user_input) > 0:\n",
    "    first_char = user_input[0]\n",
    "    last_char = user_input[-1]\n",
    "    print(\"First character:\", first_char)\n",
    "    print(\"Last character:\", last_char)\n",
    "else:\n",
    "    print(\"The string is empty.\")\n",
    "\n"
   ]
  },
  {
   "cell_type": "markdown",
   "id": "1868a028-0dff-4a8a-a398-a71c11592f10",
   "metadata": {},
   "source": [
    "7. Concatenate two strings and print the result."
   ]
  },
  {
   "cell_type": "code",
   "execution_count": 9,
   "id": "a1d7d835-1900-4f4a-a7b9-c10eadc29863",
   "metadata": {},
   "outputs": [
    {
     "name": "stdin",
     "output_type": "stream",
     "text": [
      "Enter the first string:  Ronald\n",
      "Enter the second string:  Mudenyo\n"
     ]
    },
    {
     "name": "stdout",
     "output_type": "stream",
     "text": [
      "Concatenated string: Ronald Mudenyo\n"
     ]
    }
   ],
   "source": [
    "# Take two string inputs from the user\n",
    "str1 = input(\"Enter the first string: \")\n",
    "str2 = input(\"Enter the second string: \")\n",
    "\n",
    "# Concatenate the strings\n",
    "result = str1 + ' ' + str2\n",
    "\n",
    "print(\"Concatenated string:\", result)\n",
    "\n"
   ]
  },
  {
   "cell_type": "markdown",
   "id": "3e51c583-cec8-4d69-b96e-76508fe4c0a5",
   "metadata": {},
   "source": [
    "8. Check if a given string contains the word \"Python\"."
   ]
  },
  {
   "cell_type": "code",
   "execution_count": 11,
   "id": "a56f6d1d-230a-4bf1-a899-51d8df28a623",
   "metadata": {},
   "outputs": [
    {
     "name": "stdin",
     "output_type": "stream",
     "text": [
      "Enter a string:  I love working with Python\n"
     ]
    },
    {
     "name": "stdout",
     "output_type": "stream",
     "text": [
      "Yes, the string contains 'Python'.\n"
     ]
    }
   ],
   "source": [
    "# Take string input from the user\n",
    "user_input = input(\"Enter a string: \")\n",
    "\n",
    "# Check if \"Python\" exists in the string\n",
    "if \"Python\" in user_input:\n",
    "    print(\"Yes, the string contains 'Python'.\")\n",
    "else:\n",
    "    print(\"No, the string does not contain 'Python'.\")\n"
   ]
  },
  {
   "cell_type": "markdown",
   "id": "25977d4b-3258-4c72-92ad-ed2403b692f9",
   "metadata": {},
   "source": [
    "9. Remove all spaces from a string and print the new string.\n"
   ]
  },
  {
   "cell_type": "code",
   "execution_count": 12,
   "id": "11a63f10-60e9-44be-8242-d9109d156c69",
   "metadata": {},
   "outputs": [
    {
     "name": "stdin",
     "output_type": "stream",
     "text": [
      "Enter a string:  I love dealing with codes\n"
     ]
    },
    {
     "name": "stdout",
     "output_type": "stream",
     "text": [
      "String without spaces: Ilovedealingwithcodes\n"
     ]
    }
   ],
   "source": [
    "# Take string input from the user\n",
    "user_input = input(\"Enter a string: \")\n",
    "\n",
    "# Remove all spaces\n",
    "no_spaces = user_input.replace(\" \", \"\")\n",
    "\n",
    "print(\"String without spaces:\", no_spaces)\n",
    "\n"
   ]
  },
  {
   "cell_type": "markdown",
   "id": "3db1217b-3f44-4189-a0da-9ced15617eb4",
   "metadata": {},
   "source": [
    "10.Extract and print the first five characters of a string."
   ]
  },
  {
   "cell_type": "code",
   "execution_count": 13,
   "id": "48b4458f-c50a-4a6e-8b5d-d8634b7d611e",
   "metadata": {},
   "outputs": [
    {
     "name": "stdin",
     "output_type": "stream",
     "text": [
      "Enter a string:  Ronald\n"
     ]
    },
    {
     "name": "stdout",
     "output_type": "stream",
     "text": [
      "First five characters: Ronal\n"
     ]
    }
   ],
   "source": [
    "# Take string input from the user\n",
    "user_input = input(\"Enter a string: \")\n",
    "\n",
    "# Extract the first five characters\n",
    "first_five = user_input[:5]\n",
    "\n",
    "print(\"First five characters:\", first_five)\n"
   ]
  },
  {
   "cell_type": "markdown",
   "id": "be8cb0e8-1cc7-48b5-b481-02130979a62f",
   "metadata": {},
   "source": [
    "11.Create a list of five numbers and print the list."
   ]
  },
  {
   "cell_type": "code",
   "execution_count": 14,
   "id": "1bad33c5-866a-4f58-b7b3-c452e5df2525",
   "metadata": {},
   "outputs": [
    {
     "name": "stdout",
     "output_type": "stream",
     "text": [
      "List of numbers: [10, 20, 30, 40, 50]\n"
     ]
    }
   ],
   "source": [
    "# Create a list of five numbers\n",
    "numbers = [10, 20, 30, 40, 50]\n",
    "\n",
    "# Print the list\n",
    "print(\"List of numbers:\", numbers)\n"
   ]
  },
  {
   "cell_type": "markdown",
   "id": "3f0b14a1-0744-4aea-975a-4a6ee08e9e39",
   "metadata": {},
   "source": [
    "12.Print the third element of a given list."
   ]
  },
  {
   "cell_type": "code",
   "execution_count": 15,
   "id": "5764136e-2255-476b-9364-7a6df20b6d33",
   "metadata": {},
   "outputs": [
    {
     "name": "stdout",
     "output_type": "stream",
     "text": [
      "30\n"
     ]
    }
   ],
   "source": [
    "print(numbers[2])"
   ]
  },
  {
   "cell_type": "markdown",
   "id": "29025614-a285-431e-81ef-f775b667ce8d",
   "metadata": {},
   "source": [
    "13.Replace the second element of a list with \"hello\"."
   ]
  },
  {
   "cell_type": "code",
   "execution_count": 16,
   "id": "ff4997d2-6ff1-47d5-9b35-7632b4b9c26d",
   "metadata": {},
   "outputs": [
    {
     "name": "stdout",
     "output_type": "stream",
     "text": [
      "[10, 20, 'hello', 40, 50]\n"
     ]
    }
   ],
   "source": [
    "numbers[2] = 'hello'\n",
    "print(numbers)"
   ]
  },
  {
   "cell_type": "markdown",
   "id": "b5ac7c88-8d13-4f7c-af43-bed0b5162ae8",
   "metadata": {},
   "source": [
    "14.Add a new element to the end of a list."
   ]
  },
  {
   "cell_type": "code",
   "execution_count": 17,
   "id": "905b7c6b-770b-4511-9ecb-ea0e0f0c8549",
   "metadata": {},
   "outputs": [],
   "source": [
    "numbers.append(51)"
   ]
  },
  {
   "cell_type": "code",
   "execution_count": 18,
   "id": "12aa0cf1-92ec-4d27-8a8d-39df796cae4a",
   "metadata": {},
   "outputs": [
    {
     "name": "stdout",
     "output_type": "stream",
     "text": [
      "[10, 20, 'hello', 40, 50, 51]\n"
     ]
    }
   ],
   "source": [
    "print(numbers)"
   ]
  },
  {
   "cell_type": "markdown",
   "id": "afbb0476-37b0-40c9-ae27-a5b1ca9b735f",
   "metadata": {},
   "source": [
    "15.Remove the last element from a list and print the modified list."
   ]
  },
  {
   "cell_type": "code",
   "execution_count": 19,
   "id": "3e1fedc2-e535-4843-9f07-e19dc1c982ef",
   "metadata": {},
   "outputs": [
    {
     "name": "stdout",
     "output_type": "stream",
     "text": [
      "[10, 20, 'hello', 40, 50]\n"
     ]
    }
   ],
   "source": [
    "numbers.pop()\n",
    "print(numbers)"
   ]
  },
  {
   "cell_type": "markdown",
   "id": "6bbfe602-b01d-4230-a4ac-d4d8dd86f8a5",
   "metadata": {},
   "source": [
    "16.Print each element of a list one by one using a loop."
   ]
  },
  {
   "cell_type": "code",
   "execution_count": 20,
   "id": "30ace21d-e7f2-49e1-8ac7-62ecb2e1499d",
   "metadata": {},
   "outputs": [
    {
     "name": "stdout",
     "output_type": "stream",
     "text": [
      "10\n",
      "20\n",
      "hello\n",
      "40\n",
      "50\n"
     ]
    }
   ],
   "source": [
    "for i in numbers:\n",
    "    print(i)"
   ]
  },
  {
   "cell_type": "markdown",
   "id": "85eeef43-2114-4dc4-9729-bfa50eb9b5dd",
   "metadata": {},
   "source": [
    "17.Check if the number 10 is in a given list."
   ]
  },
  {
   "cell_type": "code",
   "execution_count": 24,
   "id": "f1c87da9-04e2-40f7-9ade-370284de63f9",
   "metadata": {},
   "outputs": [
    {
     "name": "stdout",
     "output_type": "stream",
     "text": [
      "Yes, 10 is in the list.\n"
     ]
    }
   ],
   "source": [
    "# Create a sample list\n",
    "my_list = [5, 8, 10, 15, 20]\n",
    "\n",
    "# Check if 10 is in the list\n",
    "if 10 in my_list:\n",
    "    print(\"Yes, 10 is in the list.\")\n",
    "else:\n",
    "    print(\"No, 10 is not in the list.\")\n"
   ]
  },
  {
   "cell_type": "markdown",
   "id": "1f9b303b-625f-4b48-993e-cc6ccdc4f134",
   "metadata": {},
   "source": [
    "18.Create two lists and join them into one."
   ]
  },
  {
   "cell_type": "code",
   "execution_count": 25,
   "id": "7299b042-fe8a-4ec1-aa12-23ef4f7035c3",
   "metadata": {},
   "outputs": [
    {
     "name": "stdout",
     "output_type": "stream",
     "text": [
      "Joined list: [1, 2, 3, 4, 5, 6]\n"
     ]
    }
   ],
   "source": [
    "# Create two sample lists\n",
    "list1 = [1, 2, 3]\n",
    "list2 = [4, 5, 6]\n",
    "\n",
    "# Join the lists\n",
    "joined_list = list1 + list2\n",
    "\n",
    "print(\"Joined list:\", joined_list)\n"
   ]
  },
  {
   "cell_type": "markdown",
   "id": "c88b7246-9cc0-422e-9ac2-33020e3cbcf6",
   "metadata": {},
   "source": [
    "9.Print a list in reverse order without using slicing ([::-1])."
   ]
  },
  {
   "cell_type": "code",
   "execution_count": 26,
   "id": "9c962675-e5bf-46be-958d-4426e3abba8b",
   "metadata": {},
   "outputs": [
    {
     "name": "stdout",
     "output_type": "stream",
     "text": [
      "Reversed list: [50, 40, 30, 20, 10]\n"
     ]
    }
   ],
   "source": [
    "# Sample list\n",
    "my_list = [10, 20, 30, 40, 50]\n",
    "\n",
    "# Reverse the list\n",
    "my_list.reverse()\n",
    "\n",
    "print(\"Reversed list:\", my_list)\n"
   ]
  },
  {
   "cell_type": "markdown",
   "id": "5dfd525f-4796-40a6-a28a-264d67362bce",
   "metadata": {},
   "source": [
    "20.Sort a list in ascending order without using .sort()."
   ]
  },
  {
   "cell_type": "code",
   "execution_count": 27,
   "id": "6814be5c-d690-4c9c-bd72-bf9acfc33c56",
   "metadata": {},
   "outputs": [
    {
     "name": "stdout",
     "output_type": "stream",
     "text": [
      "Sorted list in ascending order: [5, 10, 15, 25, 30]\n"
     ]
    }
   ],
   "source": [
    "# Sample list\n",
    "my_list = [25, 10, 5, 30, 15]\n",
    "\n",
    "# Bubble sort\n",
    "n = len(my_list)\n",
    "for i in range(n):\n",
    "    for j in range(0, n - i - 1):\n",
    "        if my_list[j] > my_list[j + 1]:\n",
    "            # Swap\n",
    "            my_list[j], my_list[j + 1] = my_list[j + 1], my_list[j]\n",
    "\n",
    "print(\"Sorted list in ascending order:\", my_list)\n"
   ]
  },
  {
   "cell_type": "markdown",
   "id": "b318ee8a-6494-419d-a537-56eb2a3e3478",
   "metadata": {},
   "source": [
    "21.Create a tuple of three colors and print it."
   ]
  },
  {
   "cell_type": "code",
   "execution_count": 28,
   "id": "4082af0f-97b9-4119-8f71-d31faf1ea14d",
   "metadata": {},
   "outputs": [
    {
     "name": "stdout",
     "output_type": "stream",
     "text": [
      "('Red', 'White', 'Green')\n"
     ]
    }
   ],
   "source": [
    "colors = ('Red', 'White','Green')\n",
    "print(colors)"
   ]
  },
  {
   "cell_type": "markdown",
   "id": "cbb05850-5619-4f72-8779-72145816dd2d",
   "metadata": {},
   "source": [
    "22.Print the second element of a given tuple."
   ]
  },
  {
   "cell_type": "code",
   "execution_count": 29,
   "id": "981fdb8f-c5b7-4549-8e1a-412aed37152e",
   "metadata": {},
   "outputs": [
    {
     "name": "stdout",
     "output_type": "stream",
     "text": [
      "Green\n"
     ]
    }
   ],
   "source": [
    "print(colors[2])"
   ]
  },
  {
   "cell_type": "markdown",
   "id": "bcae72ee-abd5-4dbf-976e-70a33004b23f",
   "metadata": {},
   "source": [
    "23.Try changing an element in a tuple (observe the error)."
   ]
  },
  {
   "cell_type": "code",
   "execution_count": 30,
   "id": "435dfd03-7a48-4704-9efe-95f52dc139eb",
   "metadata": {},
   "outputs": [
    {
     "ename": "TypeError",
     "evalue": "'tuple' object does not support item assignment",
     "output_type": "error",
     "traceback": [
      "\u001b[1;31m---------------------------------------------------------------------------\u001b[0m",
      "\u001b[1;31mTypeError\u001b[0m                                 Traceback (most recent call last)",
      "Cell \u001b[1;32mIn[30], line 1\u001b[0m\n\u001b[1;32m----> 1\u001b[0m colors[\u001b[38;5;241m2\u001b[39m] \u001b[38;5;241m=\u001b[39m \u001b[38;5;124m'\u001b[39m\u001b[38;5;124mPurple\u001b[39m\u001b[38;5;124m'\u001b[39m\n",
      "\u001b[1;31mTypeError\u001b[0m: 'tuple' object does not support item assignment"
     ]
    }
   ],
   "source": [
    "colors[2] = 'Purple'"
   ]
  },
  {
   "cell_type": "markdown",
   "id": "b2d6d2ea-d57a-4188-892c-9c9e8bcc4846",
   "metadata": {},
   "source": [
    "24.Convert a tuple to a list and print it."
   ]
  },
  {
   "cell_type": "code",
   "execution_count": 31,
   "id": "e2b7d382-7cf6-4f0d-918b-2f3c43cd8565",
   "metadata": {},
   "outputs": [
    {
     "name": "stdout",
     "output_type": "stream",
     "text": [
      "Converted list: [10, 20, 30, 40, 50]\n"
     ]
    }
   ],
   "source": [
    "# Create a tuple\n",
    "my_tuple = (10, 20, 30, 40, 50)\n",
    "\n",
    "# Convert tuple to list\n",
    "my_list = list(my_tuple)\n",
    "\n",
    "# Print the list\n",
    "print(\"Converted list:\", my_list)\n"
   ]
  },
  {
   "cell_type": "markdown",
   "id": "593d371b-b330-4696-887f-c472dc84658f",
   "metadata": {},
   "source": [
    "25.Check if \"blue\" exists in a given tuple."
   ]
  },
  {
   "cell_type": "code",
   "execution_count": 32,
   "id": "6ec79fcc-f090-4612-a57f-2b388d3f125b",
   "metadata": {},
   "outputs": [
    {
     "name": "stdout",
     "output_type": "stream",
     "text": [
      "No, 'blue' does not exist in the tuple.\n"
     ]
    }
   ],
   "source": [
    "if \"blue\" in colors:\n",
    "    print(\"Yes, 'blue' exists in the tuple.\")\n",
    "else:\n",
    "    print(\"No, 'blue' does not exist in the tuple.\")\n",
    "    "
   ]
  },
  {
   "cell_type": "markdown",
   "id": "aaa7e4f7-a4cd-4b23-b674-b57e077fa5f5",
   "metadata": {},
   "source": [
    "26.Print each element of a tuple using a loop."
   ]
  },
  {
   "cell_type": "code",
   "execution_count": 34,
   "id": "3680fed2-f350-4a5e-911a-fdefa08235da",
   "metadata": {},
   "outputs": [
    {
     "name": "stdout",
     "output_type": "stream",
     "text": [
      "Red\n",
      "White\n",
      "Green\n"
     ]
    }
   ],
   "source": [
    "for i in colors:\n",
    "    print(i)"
   ]
  },
  {
   "cell_type": "markdown",
   "id": "8c933788-7b73-4b19-bc99-51ae46254a10",
   "metadata": {},
   "source": [
    "27.Merge two tuples and print the result."
   ]
  },
  {
   "cell_type": "code",
   "execution_count": 35,
   "id": "b3d77156-73a7-4065-bfb3-89702c2e3670",
   "metadata": {},
   "outputs": [
    {
     "name": "stdout",
     "output_type": "stream",
     "text": [
      "Merged tuple: (1, 2, 3, 4, 5, 6)\n"
     ]
    }
   ],
   "source": [
    "# Create two tuples\n",
    "tuple1 = (1, 2, 3)\n",
    "tuple2 = (4, 5, 6)\n",
    "\n",
    "# Merge the tuples\n",
    "merged_tuple = tuple1 + tuple2\n",
    "\n",
    "# Print the result\n",
    "print(\"Merged tuple:\", merged_tuple)\n"
   ]
  },
  {
   "cell_type": "markdown",
   "id": "721aa20e-d0b2-4113-bc21-e758ddd04c52",
   "metadata": {},
   "source": [
    "28.Print a tuple in reverse order."
   ]
  },
  {
   "cell_type": "code",
   "execution_count": 36,
   "id": "96a0f229-70ca-42ee-9810-e622df796a4a",
   "metadata": {},
   "outputs": [
    {
     "name": "stdout",
     "output_type": "stream",
     "text": [
      "Reversed tuple: (50, 40, 30, 20, 10)\n"
     ]
    }
   ],
   "source": [
    "# Create a tuple\n",
    "my_tuple = (10, 20, 30, 40, 50)\n",
    "\n",
    "# Print in reverse order using slicing\n",
    "reversed_tuple = my_tuple[::-1]\n",
    "\n",
    "print(\"Reversed tuple:\", reversed_tuple)\n"
   ]
  },
  {
   "cell_type": "markdown",
   "id": "e2907399-aa0b-4337-afc1-4aa9b2150041",
   "metadata": {},
   "source": [
    "29.Find the length of a tuple without using len()."
   ]
  },
  {
   "cell_type": "code",
   "execution_count": 37,
   "id": "1cb1db0b-063a-4da4-ae0f-1586dd6337fd",
   "metadata": {},
   "outputs": [
    {
     "name": "stdout",
     "output_type": "stream",
     "text": [
      "Length of the tuple: 5\n"
     ]
    }
   ],
   "source": [
    "# Create a tuple\n",
    "my_tuple = (5, 10, 15, 20, 25)\n",
    "\n",
    "# Count manually\n",
    "count = 0\n",
    "for _ in my_tuple:\n",
    "    count += 1\n",
    "\n",
    "print(\"Length of the tuple:\", count)\n"
   ]
  },
  {
   "cell_type": "markdown",
   "id": "36c3e48a-b60c-44d6-9bcb-d38be0c8e2ea",
   "metadata": {},
   "source": [
    "30.Create a tuple with a single element and print its type."
   ]
  },
  {
   "cell_type": "code",
   "execution_count": 38,
   "id": "88007b09-059a-46cb-94d9-68c7fc57bdda",
   "metadata": {},
   "outputs": [
    {
     "name": "stdout",
     "output_type": "stream",
     "text": [
      "Tuple: (10,)\n",
      "Type: <class 'tuple'>\n"
     ]
    }
   ],
   "source": [
    "# Tuple with a single element\n",
    "single_tuple = (10,)\n",
    "\n",
    "# Print the tuple and its type\n",
    "print(\"Tuple:\", single_tuple)\n",
    "print(\"Type:\", type(single_tuple))\n"
   ]
  },
  {
   "cell_type": "markdown",
   "id": "562a706e-7fde-4d34-be41-fc6e5c81fcb6",
   "metadata": {},
   "source": [
    "31.Create a string \"Hello, World!\" and print only \"World!\"."
   ]
  },
  {
   "cell_type": "code",
   "execution_count": 39,
   "id": "f71d6d1d-04c4-42c3-9415-bda117e1b719",
   "metadata": {},
   "outputs": [
    {
     "name": "stdout",
     "output_type": "stream",
     "text": [
      "World!\n"
     ]
    }
   ],
   "source": [
    "# Create the string\n",
    "text = \"Hello, World!\"\n",
    "\n",
    "# Extract and print only \"World!\"\n",
    "print(text[7:])   # starts from index 7 to the end\n"
   ]
  },
  {
   "cell_type": "markdown",
   "id": "a0a86c38-c5a2-427d-8c4e-0a75a55af692",
   "metadata": {},
   "source": [
    "32.Convert \"Python is fun\" to \"PYTHON IS FUN\" without using .upper()."
   ]
  },
  {
   "cell_type": "code",
   "execution_count": 40,
   "id": "709dfd14-0e98-4f08-98cc-cd6fc619456a",
   "metadata": {},
   "outputs": [
    {
     "name": "stdout",
     "output_type": "stream",
     "text": [
      "PYTHON IS FUN\n"
     ]
    }
   ],
   "source": [
    "text = \"Python is fun\"\n",
    "result = \"\"\n",
    "\n",
    "for char in text:\n",
    "    # Check if char is lowercase\n",
    "    if 'a' <= char <= 'z':\n",
    "        # Convert to uppercase (subtract 32 from ASCII value)\n",
    "        result += chr(ord(char) - 32)\n",
    "    else:\n",
    "        result += char\n",
    "\n",
    "print(result)\n"
   ]
  },
  {
   "cell_type": "markdown",
   "id": "b1f6b6d7-4028-4e3a-80f5-93d075b85a5e",
   "metadata": {},
   "source": [
    "33.Count how many words are in \"I love learning Python\" (without using .split())."
   ]
  },
  {
   "cell_type": "code",
   "execution_count": 41,
   "id": "12297abc-77ab-4636-b77a-908b6bdd246f",
   "metadata": {},
   "outputs": [
    {
     "name": "stdout",
     "output_type": "stream",
     "text": [
      "Number of words: 4\n"
     ]
    }
   ],
   "source": [
    "text = \"I love learning Python\"\n",
    "\n",
    "count = 1  # start with 1 word\n",
    "for char in text:\n",
    "    if char == \" \":\n",
    "        count += 1\n",
    "\n",
    "print(\"Number of words:\", count)\n"
   ]
  },
  {
   "cell_type": "markdown",
   "id": "e97c44e6-fe21-4e07-9715-259d66784f9a",
   "metadata": {},
   "source": [
    "34.Take a string input from the user and check if it starts with \"Hello\"."
   ]
  },
  {
   "cell_type": "code",
   "execution_count": 43,
   "id": "5a57664b-dfb0-4604-ae59-42ba45b198a5",
   "metadata": {},
   "outputs": [
    {
     "name": "stdin",
     "output_type": "stream",
     "text": [
      "Enter a string:  Hi Hello\n"
     ]
    },
    {
     "name": "stdout",
     "output_type": "stream",
     "text": [
      "No, the string does not start with 'Hello'.\n"
     ]
    }
   ],
   "source": [
    "# Take string input from the user\n",
    "user_input = input(\"Enter a string: \")\n",
    "\n",
    "# Check if it starts with \"Hello\"\n",
    "if user_input[:5] == \"Hello\":\n",
    "    print(\"Yes, the string starts with 'Hello'.\")\n",
    "else:\n",
    "    print(\"No, the string does not start with 'Hello'.\")\n"
   ]
  },
  {
   "cell_type": "markdown",
   "id": "09b52ccf-6b37-46e9-af1c-e0e8d75cf170",
   "metadata": {},
   "source": [
    "35.Print every second character of a string."
   ]
  },
  {
   "cell_type": "code",
   "execution_count": 44,
   "id": "e8e338ee-3dba-4018-a0ac-9e7adc5ab9b4",
   "metadata": {},
   "outputs": [
    {
     "name": "stdin",
     "output_type": "stream",
     "text": [
      "Enter a string:  howareyou\n"
     ]
    },
    {
     "name": "stdout",
     "output_type": "stream",
     "text": [
      "Every second character: oaeo\n"
     ]
    }
   ],
   "source": [
    "# Take string input from the user\n",
    "user_input = input(\"Enter a string: \")\n",
    "\n",
    "# Print every second character\n",
    "print(\"Every second character:\", user_input[1::2])\n"
   ]
  },
  {
   "cell_type": "markdown",
   "id": "38ffc8f6-99fc-4dd4-a6e7-736d8317e545",
   "metadata": {},
   "source": [
    "36.Replace all vowels in a string with \"*\"."
   ]
  },
  {
   "cell_type": "code",
   "execution_count": 45,
   "id": "65368ad6-093c-4b32-9b23-52bff3e7c46d",
   "metadata": {},
   "outputs": [
    {
     "name": "stdin",
     "output_type": "stream",
     "text": [
      "Enter a string:  hello\n"
     ]
    },
    {
     "name": "stdout",
     "output_type": "stream",
     "text": [
      "String after replacing vowels: h*ll*\n"
     ]
    }
   ],
   "source": [
    "# Take string input from the user\n",
    "user_input = input(\"Enter a string: \")\n",
    "\n",
    "vowels = \"aeiouAEIOU\"\n",
    "result = \"\"\n",
    "\n",
    "for char in user_input:\n",
    "    if char in vowels:\n",
    "        result += \"*\"\n",
    "    else:\n",
    "        result += char\n",
    "\n",
    "print(\"String after replacing vowels:\", result)\n"
   ]
  },
  {
   "cell_type": "markdown",
   "id": "cf97d2b1-0817-43a6-8e36-6d0bc25a4933",
   "metadata": {},
   "source": [
    "37.Swap the first and last character of a string."
   ]
  },
  {
   "cell_type": "code",
   "execution_count": 46,
   "id": "2b18e7fa-3333-45b2-8eff-945d603a3843",
   "metadata": {},
   "outputs": [
    {
     "name": "stdin",
     "output_type": "stream",
     "text": [
      "Enter a string:  python\n"
     ]
    },
    {
     "name": "stdout",
     "output_type": "stream",
     "text": [
      "String after swapping: nythop\n"
     ]
    }
   ],
   "source": [
    "# Take string input from the user\n",
    "user_input = input(\"Enter a string: \")\n",
    "\n",
    "# Check if the string has at least 2 characters\n",
    "if len(user_input) > 1:\n",
    "    swapped = user_input[-1] + user_input[1:-1] + user_input[0]\n",
    "else:\n",
    "    swapped = user_input  # If string is 0 or 1 character, no change\n",
    "\n",
    "print(\"String after swapping:\", swapped)\n"
   ]
  },
  {
   "cell_type": "markdown",
   "id": "476c593b-7eb7-4a43-afc1-6f8767d1f100",
   "metadata": {},
   "source": [
    "38.Check if two given strings are the same (case-sensitive).\n"
   ]
  },
  {
   "cell_type": "code",
   "execution_count": 47,
   "id": "98b1c464-53e1-4449-a74d-413cc4d3665d",
   "metadata": {},
   "outputs": [
    {
     "name": "stdin",
     "output_type": "stream",
     "text": [
      "Enter the first string:  Ronald \n",
      "Enter the second string:  Mudenyo\n"
     ]
    },
    {
     "name": "stdout",
     "output_type": "stream",
     "text": [
      "The strings are different.\n"
     ]
    }
   ],
   "source": [
    "# Take two string inputs from the user\n",
    "str1 = input(\"Enter the first string: \")\n",
    "str2 = input(\"Enter the second string: \")\n",
    "\n",
    "# Check if they are the same (case-sensitive)\n",
    "if str1 == str2:\n",
    "    print(\"The strings are the same.\")\n",
    "else:\n",
    "    print(\"The strings are different.\")\n"
   ]
  },
  {
   "cell_type": "markdown",
   "id": "d6127a52-e502-4d7b-aae2-414ee099d2b2",
   "metadata": {},
   "source": [
    "39.Print a string without the first and last character."
   ]
  },
  {
   "cell_type": "code",
   "execution_count": 48,
   "id": "29cbd79f-575b-4be9-bbbd-3e776557ee68",
   "metadata": {},
   "outputs": [
    {
     "name": "stdin",
     "output_type": "stream",
     "text": [
      "Enter a string:  Ronald\n"
     ]
    },
    {
     "name": "stdout",
     "output_type": "stream",
     "text": [
      "String without first and last character: onal\n"
     ]
    }
   ],
   "source": [
    "# Take string input from the user\n",
    "user_input = input(\"Enter a string: \")\n",
    "\n",
    "# Remove first and last character using slicing\n",
    "if len(user_input) > 2:\n",
    "    result = user_input[1:-1]\n",
    "else:\n",
    "    result = \"\"  # If string length is 0, 1, or 2 → no middle part\n",
    "\n",
    "print(\"String without first and last character:\", result)\n"
   ]
  },
  {
   "cell_type": "markdown",
   "id": "9acb1bef-33c8-4f25-88fd-16e1321968b0",
   "metadata": {},
   "source": [
    "40.Convert a string \"12345\" into a list of individual characters."
   ]
  },
  {
   "cell_type": "code",
   "execution_count": 49,
   "id": "9c54c223-5a36-40a8-98ae-f786628daf8c",
   "metadata": {},
   "outputs": [
    {
     "name": "stdout",
     "output_type": "stream",
     "text": [
      "List of characters: ['1', '2', '3', '4', '5']\n"
     ]
    }
   ],
   "source": [
    "text = \"12345\"\n",
    "\n",
    "# Convert string to list of characters\n",
    "char_list = list(text)\n",
    "\n",
    "print(\"List of characters:\", char_list)\n"
   ]
  },
  {
   "cell_type": "markdown",
   "id": "025531aa-aefd-4bbb-9237-93635493e145",
   "metadata": {},
   "source": [
    "41.Create a list of five cities and print only the last three."
   ]
  },
  {
   "cell_type": "code",
   "execution_count": 50,
   "id": "af9238ff-8951-4a3d-b7b5-8dd172ab9c4c",
   "metadata": {},
   "outputs": [
    {
     "name": "stdout",
     "output_type": "stream",
     "text": [
      "Last three cities: ['Paris', 'Tokyo', 'Sydney']\n"
     ]
    }
   ],
   "source": [
    "# Create a list of five cities\n",
    "cities = [\"New York\", \"London\", \"Paris\", \"Tokyo\", \"Sydney\"]\n",
    "\n",
    "# Print only the last three\n",
    "print(\"Last three cities:\", cities[-3:])\n"
   ]
  },
  {
   "cell_type": "markdown",
   "id": "fb04e9d6-d037-4467-96bb-62c387d5dc02",
   "metadata": {},
   "source": [
    "42.Remove the middle element from a list of five elements."
   ]
  },
  {
   "cell_type": "code",
   "execution_count": 51,
   "id": "08099aed-daf2-40d8-947c-0b9c07696add",
   "metadata": {},
   "outputs": [
    {
     "name": "stdout",
     "output_type": "stream",
     "text": [
      "List after removing middle element: [10, 20, 40, 50]\n"
     ]
    }
   ],
   "source": [
    "# Create a list of five elements\n",
    "my_list = [10, 20, 30, 40, 50]\n",
    "\n",
    "# Remove the middle element (index 2 for 5 elements)\n",
    "my_list.pop(2)\n",
    "\n",
    "print(\"List after removing middle element:\", my_list)\n"
   ]
  },
  {
   "cell_type": "markdown",
   "id": "8db6eb02-0db0-4fb7-84bd-54f7e9c22f79",
   "metadata": {},
   "source": [
    "43.Take five numbers from the user and store them in a list.\n",
    "\n",
    "\n"
   ]
  },
  {
   "cell_type": "code",
   "execution_count": 53,
   "id": "ec056c13-70fa-4e59-bfe3-e1decbc9e892",
   "metadata": {},
   "outputs": [
    {
     "name": "stdin",
     "output_type": "stream",
     "text": [
      "Enter number 1:  2\n",
      "Enter number 2:  3\n",
      "Enter number 3:  2\n",
      "Enter number 4:  5\n",
      "Enter number 5:  6\n"
     ]
    },
    {
     "name": "stdout",
     "output_type": "stream",
     "text": [
      "Numbers list: [2, 3, 2, 5, 6]\n"
     ]
    }
   ],
   "source": [
    "# Create an empty list\n",
    "numbers = []\n",
    "\n",
    "# Take five numbers from user input\n",
    "for i in range(5):\n",
    "    num = int(input(f\"Enter number {i+1}: \"))\n",
    "    numbers.append(num)\n",
    "\n",
    "print(\"Numbers list:\", numbers)\n"
   ]
  },
  {
   "cell_type": "markdown",
   "id": "636e972a-2286-4f31-a86b-492bab84833b",
   "metadata": {},
   "source": [
    "44.Find the index of \"apple\" in the list [\"banana\", \"orange\", \"apple\", \"grape\"]."
   ]
  },
  {
   "cell_type": "code",
   "execution_count": 54,
   "id": "d4b32eac-fe3e-41e6-8ed1-63ecaeb7f218",
   "metadata": {},
   "outputs": [
    {
     "name": "stdout",
     "output_type": "stream",
     "text": [
      "Index of 'apple': 2\n"
     ]
    }
   ],
   "source": [
    "fruits = [\"banana\", \"orange\", \"apple\", \"grape\"]\n",
    "\n",
    "# Find index of \"apple\"\n",
    "index = fruits.index(\"apple\")\n",
    "\n",
    "print(\"Index of 'apple':\", index)\n"
   ]
  },
  {
   "cell_type": "markdown",
   "id": "328f3d9e-5341-4425-9e49-3001c573db63",
   "metadata": {},
   "source": [
    "45.Print only the even numbers from a given list."
   ]
  },
  {
   "cell_type": "code",
   "execution_count": 55,
   "id": "aa0c0a40-d7cb-43e7-a036-879716c25c95",
   "metadata": {},
   "outputs": [
    {
     "name": "stdout",
     "output_type": "stream",
     "text": [
      "2 4 6 8 10 "
     ]
    }
   ],
   "source": [
    "my_list = [1, 2, 3, 4, 5, 6, 7, 8, 9, 10]\n",
    "\n",
    "for num in my_list:\n",
    "    if num % 2 == 0:\n",
    "        print(num, end=\" \")\n"
   ]
  },
  {
   "cell_type": "markdown",
   "id": "8891537c-f4aa-4a18-a1a8-f26143166176",
   "metadata": {},
   "source": [
    "46.Reverse a list by swapping elements (without [::-1])."
   ]
  },
  {
   "cell_type": "code",
   "execution_count": 56,
   "id": "28056c4b-75c0-496d-9c19-ad75bed7c6f4",
   "metadata": {},
   "outputs": [
    {
     "name": "stdout",
     "output_type": "stream",
     "text": [
      "Reversed list: [5, 4, 3, 2, 1]\n"
     ]
    }
   ],
   "source": [
    "my_list = [1, 2, 3, 4, 5]\n",
    "\n",
    "n = len(my_list)\n",
    "for i in range(n // 2):\n",
    "    my_list[i], my_list[n - i - 1] = my_list[n - i - 1], my_list[i]\n",
    "\n",
    "print(\"Reversed list:\", my_list)\n"
   ]
  },
  {
   "cell_type": "markdown",
   "id": "4cec1e99-1fb4-413f-afd7-07e7212d996e",
   "metadata": {},
   "source": [
    "47.Create a list of ten numbers and print only the unique elements."
   ]
  },
  {
   "cell_type": "code",
   "execution_count": 57,
   "id": "f7f5ca50-4d21-4513-b4b0-75915158326f",
   "metadata": {},
   "outputs": [
    {
     "name": "stdout",
     "output_type": "stream",
     "text": [
      "Unique elements: [1, 2, 3, 4, 5, 6, 7]\n"
     ]
    }
   ],
   "source": [
    "my_list = [1, 2, 2, 3, 4, 4, 5, 6, 6, 7]\n",
    "unique = []\n",
    "\n",
    "for num in my_list:\n",
    "    if num not in unique:\n",
    "        unique.append(num)\n",
    "\n",
    "print(\"Unique elements:\", unique)\n"
   ]
  },
  {
   "cell_type": "markdown",
   "id": "81cf166a-b779-475d-99bf-d50e0b188b79",
   "metadata": {},
   "source": [
    "48.Print the sum of all elements in a list (without using sum())."
   ]
  },
  {
   "cell_type": "code",
   "execution_count": 58,
   "id": "91a2ee11-e408-4af7-a8f4-688dbff5d2f4",
   "metadata": {},
   "outputs": [
    {
     "name": "stdout",
     "output_type": "stream",
     "text": [
      "Sum: 15\n"
     ]
    }
   ],
   "source": [
    "my_list = [1, 2, 3, 4, 5]\n",
    "\n",
    "total = 0\n",
    "for num in my_list:\n",
    "    total += num\n",
    "\n",
    "print(\"Sum:\", total)\n"
   ]
  },
  {
   "cell_type": "markdown",
   "id": "caeda364-2024-4681-8254-edfc4a6f3c6e",
   "metadata": {},
   "source": [
    "49.Move the first element of a list to the last position."
   ]
  },
  {
   "cell_type": "code",
   "execution_count": 59,
   "id": "fe9ba45a-1cf6-4cc0-b86e-880679082836",
   "metadata": {},
   "outputs": [
    {
     "name": "stdout",
     "output_type": "stream",
     "text": [
      "Modified list: [20, 30, 40, 10]\n"
     ]
    }
   ],
   "source": [
    "my_list = [10, 20, 30, 40]\n",
    "\n",
    "first = my_list.pop(0)\n",
    "my_list.append(first)\n",
    "\n",
    "print(\"Modified list:\", my_list)\n"
   ]
  },
  {
   "cell_type": "markdown",
   "id": "0860bdc4-9cd8-4459-8bb1-d938e5933689",
   "metadata": {},
   "source": [
    "50.Create a list with mixed data types (int, float, string) and print each element with its type."
   ]
  },
  {
   "cell_type": "code",
   "execution_count": 61,
   "id": "7df8cc26-5da8-429e-8e3f-bb92ad40370c",
   "metadata": {},
   "outputs": [
    {
     "name": "stdout",
     "output_type": "stream",
     "text": [
      "10 -> <class 'int'>\n",
      "3.14 -> <class 'float'>\n",
      "Python -> <class 'str'>\n"
     ]
    }
   ],
   "source": [
    "my_list = [10, 3.14, \"Python\"]\n",
    "\n",
    "for item in my_list:\n",
    "    print(item, \"->\", type(item))\n"
   ]
  },
  {
   "cell_type": "markdown",
   "id": "14d9d9b3-1d8a-47ab-a6d4-bf1c9cbc2c78",
   "metadata": {},
   "source": [
    "51.Create a tuple of five numbers and print only the first three."
   ]
  },
  {
   "cell_type": "code",
   "execution_count": 62,
   "id": "b496c680-a651-462d-9877-f1472c50a3ce",
   "metadata": {},
   "outputs": [
    {
     "name": "stdout",
     "output_type": "stream",
     "text": [
      "First three: (1, 2, 3)\n"
     ]
    }
   ],
   "source": [
    "my_tuple = (1, 2, 3, 4, 5)\n",
    "print(\"First three:\", my_tuple[:3])\n"
   ]
  },
  {
   "cell_type": "markdown",
   "id": "0e5c2052-69fd-407e-a370-1e13d41362e5",
   "metadata": {},
   "source": [
    "52.Print the last element of a tuple without using negative indexing."
   ]
  },
  {
   "cell_type": "code",
   "execution_count": 63,
   "id": "1c8184b7-da47-44d1-9c3f-54d62458bf96",
   "metadata": {},
   "outputs": [
    {
     "name": "stdout",
     "output_type": "stream",
     "text": [
      "Last element: 50\n"
     ]
    }
   ],
   "source": [
    "my_tuple = (10, 20, 30, 40, 50)\n",
    "print(\"Last element:\", my_tuple[len(my_tuple) - 1])\n"
   ]
  },
  {
   "cell_type": "markdown",
   "id": "b6cb8ced-3e49-447f-b0c2-3605124054dc",
   "metadata": {},
   "source": [
    "53.Convert a tuple (1, 2, 3, 4, 5) into a list and add a new number."
   ]
  },
  {
   "cell_type": "code",
   "execution_count": 64,
   "id": "ba33eb39-5d70-434b-be64-68b4f500a598",
   "metadata": {},
   "outputs": [
    {
     "name": "stdout",
     "output_type": "stream",
     "text": [
      "Modified list: [1, 2, 3, 4, 5, 6]\n"
     ]
    }
   ],
   "source": [
    "my_tuple = (1, 2, 3, 4, 5)\n",
    "my_list = list(my_tuple)\n",
    "my_list.append(6)\n",
    "print(\"Modified list:\", my_list)\n"
   ]
  },
  {
   "cell_type": "markdown",
   "id": "1d00db79-ea36-419a-ab2a-146a136fe792",
   "metadata": {},
   "source": [
    "54.Try deleting an element from a tuple and observe the error."
   ]
  },
  {
   "cell_type": "code",
   "execution_count": 65,
   "id": "5ad559ca-c607-4388-b51f-ac09b37ba801",
   "metadata": {},
   "outputs": [
    {
     "ename": "TypeError",
     "evalue": "'tuple' object doesn't support item deletion",
     "output_type": "error",
     "traceback": [
      "\u001b[1;31m---------------------------------------------------------------------------\u001b[0m",
      "\u001b[1;31mTypeError\u001b[0m                                 Traceback (most recent call last)",
      "Cell \u001b[1;32mIn[65], line 2\u001b[0m\n\u001b[0;32m      1\u001b[0m my_tuple \u001b[38;5;241m=\u001b[39m (\u001b[38;5;241m1\u001b[39m, \u001b[38;5;241m2\u001b[39m, \u001b[38;5;241m3\u001b[39m)\n\u001b[1;32m----> 2\u001b[0m \u001b[38;5;28;01mdel\u001b[39;00m my_tuple[\u001b[38;5;241m1\u001b[39m]\n",
      "\u001b[1;31mTypeError\u001b[0m: 'tuple' object doesn't support item deletion"
     ]
    }
   ],
   "source": [
    "my_tuple = (1, 2, 3)\n",
    "del my_tuple[1]   # ❌ Error\n"
   ]
  },
  {
   "cell_type": "markdown",
   "id": "5ebbaf5d-ded9-4a17-9814-b920ddfcd04e",
   "metadata": {},
   "source": [
    "55.Extract the middle element from a tuple with an odd number of elements."
   ]
  },
  {
   "cell_type": "code",
   "execution_count": 66,
   "id": "5473d744-7463-4aa0-b80c-1abbda145cc0",
   "metadata": {},
   "outputs": [
    {
     "name": "stdout",
     "output_type": "stream",
     "text": [
      "Middle element: 5\n"
     ]
    }
   ],
   "source": [
    "my_tuple = (1, 3, 5, 7, 9)\n",
    "middle = my_tuple[len(my_tuple)//2]\n",
    "print(\"Middle element:\", middle)\n"
   ]
  },
  {
   "cell_type": "markdown",
   "id": "4bed4684-3f4d-4df3-bb4a-bda1f75da36b",
   "metadata": {},
   "source": [
    "56.Check if two tuples (1, 2, 3) and (3, 2, 1) are the same."
   ]
  },
  {
   "cell_type": "code",
   "execution_count": 67,
   "id": "35ad1f9c-1001-455b-a639-7c24f00d0cc4",
   "metadata": {},
   "outputs": [
    {
     "name": "stdout",
     "output_type": "stream",
     "text": [
      "Same? False\n"
     ]
    }
   ],
   "source": [
    "t1 = (1, 2, 3)\n",
    "t2 = (3, 2, 1)\n",
    "print(\"Same?\" , t1 == t2)\n"
   ]
  },
  {
   "cell_type": "markdown",
   "id": "b37ecc5f-9439-48cb-8d78-5aa4023da871",
   "metadata": {},
   "source": [
    "57.Create a nested tuple and print an inner element."
   ]
  },
  {
   "cell_type": "code",
   "execution_count": 68,
   "id": "df5c65ca-3867-4544-9799-387811169407",
   "metadata": {},
   "outputs": [
    {
     "name": "stdout",
     "output_type": "stream",
     "text": [
      "Inner element: 3\n"
     ]
    }
   ],
   "source": [
    "nested = (1, (2, 3), (4, 5))\n",
    "print(\"Inner element:\", nested[1][1])  # → 3\n"
   ]
  },
  {
   "cell_type": "markdown",
   "id": "0a26541c-b2eb-47ee-960e-1d21cea01211",
   "metadata": {},
   "source": [
    "58.Merge three tuples into one."
   ]
  },
  {
   "cell_type": "code",
   "execution_count": 69,
   "id": "ef30932a-ecb1-409c-b250-05190e787e33",
   "metadata": {},
   "outputs": [
    {
     "name": "stdout",
     "output_type": "stream",
     "text": [
      "Merged tuple: (1, 2, 3, 4, 5, 6)\n"
     ]
    }
   ],
   "source": [
    "t1 = (1, 2)\n",
    "t2 = (3, 4)\n",
    "t3 = (5, 6)\n",
    "merged = t1 + t2 + t3\n",
    "print(\"Merged tuple:\", merged)\n"
   ]
  },
  {
   "cell_type": "markdown",
   "id": "83449cb5-d753-4f97-b7c4-77224ab9002f",
   "metadata": {},
   "source": [
    "59.Find the index of 5 in the tuple (1, 3, 5, 7, 9)."
   ]
  },
  {
   "cell_type": "code",
   "execution_count": 70,
   "id": "8cc1f6a9-9998-4dbe-aa3c-c5a14faa24bf",
   "metadata": {},
   "outputs": [
    {
     "name": "stdout",
     "output_type": "stream",
     "text": [
      "Index of 5: 2\n"
     ]
    }
   ],
   "source": [
    "my_tuple = (1, 3, 5, 7, 9)\n",
    "print(\"Index of 5:\", my_tuple.index(5))\n"
   ]
  },
  {
   "cell_type": "markdown",
   "id": "3444a67a-9e57-4772-acdd-c12dfba136d1",
   "metadata": {},
   "source": [
    "60.Unpack a tuple into separate variables."
   ]
  },
  {
   "cell_type": "code",
   "execution_count": 71,
   "id": "4cba534f-1ea6-4e55-a3d9-ea10e4d75fc2",
   "metadata": {},
   "outputs": [
    {
     "name": "stdout",
     "output_type": "stream",
     "text": [
      "10 20 30\n"
     ]
    }
   ],
   "source": [
    "my_tuple = (10, 20, 30)\n",
    "a, b, c = my_tuple\n",
    "print(a, b, c)\n"
   ]
  },
  {
   "cell_type": "markdown",
   "id": "40ba3492-1025-4132-ba50-184bdb8c42af",
   "metadata": {},
   "source": [
    "61. Create a dictionary with the following key-value pairs:\n",
    "\tname: \"Alice\", age: 25, city: \"New York\""
   ]
  },
  {
   "cell_type": "code",
   "execution_count": 72,
   "id": "e1f13dee-8cfa-4fa9-9a95-2dce66046bc9",
   "metadata": {},
   "outputs": [
    {
     "name": "stdout",
     "output_type": "stream",
     "text": [
      "{'name': 'Alice', 'age': 25, 'city': 'New York'}\n"
     ]
    }
   ],
   "source": [
    "person = {\"name\": \"Alice\", \"age\": 25, \"city\": \"New York\"}\n",
    "print(person)\n"
   ]
  },
  {
   "cell_type": "markdown",
   "id": "c986117a-d427-42d4-8344-9d2ddad4c51a",
   "metadata": {},
   "source": [
    "62: person = {\"name\": \"Alice\", \"age\": 25, \"city\": \"New York\"}\n",
    "\n",
    "\tPrint the value associated with the key \"city\""
   ]
  },
  {
   "cell_type": "code",
   "execution_count": 73,
   "id": "e4518d6c-c09f-4523-a17e-5c243ab38b00",
   "metadata": {},
   "outputs": [
    {
     "name": "stdout",
     "output_type": "stream",
     "text": [
      "City: New York\n"
     ]
    }
   ],
   "source": [
    "person = {\"name\": \"Alice\", \"age\": 25, \"city\": \"New York\"}\n",
    "print(\"City:\", person[\"city\"])\n"
   ]
  },
  {
   "cell_type": "markdown",
   "id": "f764b169-323b-4b06-9939-7996b6df0d9c",
   "metadata": {},
   "source": [
    "63: Update the age of Alice to 26 in the dictionary"
   ]
  },
  {
   "cell_type": "code",
   "execution_count": 74,
   "id": "009df3ff-35e0-44e7-b8fd-1a74cb6b7efd",
   "metadata": {},
   "outputs": [
    {
     "name": "stdout",
     "output_type": "stream",
     "text": [
      "{'name': 'Alice', 'age': 26, 'city': 'New York'}\n"
     ]
    }
   ],
   "source": [
    "person[\"age\"] = 26\n",
    "print(person)\n"
   ]
  },
  {
   "cell_type": "markdown",
   "id": "fd7c306f-c4fe-4cb0-aa67-4dd089d3ef57",
   "metadata": {},
   "source": [
    "64. Add a new key \"email\" with value \"alice@example.com\" to the dictionary"
   ]
  },
  {
   "cell_type": "code",
   "execution_count": 75,
   "id": "8ab7c05e-fd5b-4e9f-893e-e042d506a4c6",
   "metadata": {},
   "outputs": [
    {
     "name": "stdout",
     "output_type": "stream",
     "text": [
      "{'name': 'Alice', 'age': 26, 'city': 'New York', 'email': 'alice@example.com'}\n"
     ]
    }
   ],
   "source": [
    "person[\"email\"] = \"alice@example.com\"\n",
    "print(person)\n"
   ]
  },
  {
   "cell_type": "markdown",
   "id": "6fa6b5d0-8e2a-467c-a54a-ec0e5340a687",
   "metadata": {},
   "source": [
    "65. Delete the key \"city\" from the dictionary"
   ]
  },
  {
   "cell_type": "code",
   "execution_count": 76,
   "id": "15a6b18c-8b73-4f67-9612-feadbb218a5b",
   "metadata": {},
   "outputs": [
    {
     "name": "stdout",
     "output_type": "stream",
     "text": [
      "{'name': 'Alice', 'age': 26, 'email': 'alice@example.com'}\n"
     ]
    }
   ],
   "source": [
    "del person[\"city\"]\n",
    "print(person)\n"
   ]
  },
  {
   "cell_type": "markdown",
   "id": "03f763b5-6acf-487c-bc48-9feec8518415",
   "metadata": {},
   "source": [
    "66. Check if the key \"email\" exists in the dictionary"
   ]
  },
  {
   "cell_type": "code",
   "execution_count": 77,
   "id": "158b5c4c-af10-4732-9bb8-a1b7ba319c93",
   "metadata": {},
   "outputs": [
    {
     "name": "stdout",
     "output_type": "stream",
     "text": [
      "True\n"
     ]
    }
   ],
   "source": [
    "print(\"email\" in person)\n"
   ]
  },
  {
   "cell_type": "markdown",
   "id": "e408df4e-2ba2-484a-9a91-68406429fdf8",
   "metadata": {},
   "source": [
    "67: Create a dictionary of students:\n",
    "\n",
    " {\n",
    "    \"Alice\": {\"math\": 90, \"science\": 85},     \n",
    "    \"Bob\": {\"math\": 75, \"science\": 95}\n",
    " }\n",
    "\n",
    "Print Bob's science score."
   ]
  },
  {
   "cell_type": "code",
   "execution_count": 78,
   "id": "3f2229f8-76b9-4ee9-b76b-6e77f969885e",
   "metadata": {},
   "outputs": [
    {
     "name": "stdout",
     "output_type": "stream",
     "text": [
      "Bob's science score: 95\n"
     ]
    }
   ],
   "source": [
    "students = {\n",
    "    \"Alice\": {\"math\": 90, \"science\": 85},\n",
    "    \"Bob\": {\"math\": 75, \"science\": 95}\n",
    "}\n",
    "\n",
    "print(\"Bob's science score:\", students[\"Bob\"][\"science\"])\n"
   ]
  },
  {
   "cell_type": "markdown",
   "id": "a1105c2e-0d80-4aad-bf66-a037411e7e01",
   "metadata": {},
   "source": [
    "68. Create a set named `fruits` with the items: \"apple\", \"banana\", \"cherry\""
   ]
  },
  {
   "cell_type": "code",
   "execution_count": 86,
   "id": "4f6e2f44-f42e-40f5-b4e5-dda80670eaff",
   "metadata": {},
   "outputs": [
    {
     "name": "stdout",
     "output_type": "stream",
     "text": [
      "{'banana', 'apple', 'cherry'}\n"
     ]
    }
   ],
   "source": [
    "fruits = {\"apple\", \"banana\", \"cherry\"}\n",
    "print(fruits)\n"
   ]
  },
  {
   "cell_type": "markdown",
   "id": "90d82634-c553-4177-abdc-5862b63635d7",
   "metadata": {},
   "source": [
    "69. Add \"orange\" to the set `fruits`"
   ]
  },
  {
   "cell_type": "code",
   "execution_count": 87,
   "id": "cba1caef-16b3-4385-9ee6-106440a3b7e4",
   "metadata": {},
   "outputs": [
    {
     "name": "stdout",
     "output_type": "stream",
     "text": [
      "{'banana', 'orange', 'apple', 'cherry'}\n"
     ]
    }
   ],
   "source": [
    "fruits.add(\"orange\")\n",
    "print(fruits)\n"
   ]
  },
  {
   "cell_type": "markdown",
   "id": "5e7ddbc6-eadb-4a28-9874-f62b3723fade",
   "metadata": {},
   "source": [
    "70. Remove \"banana\" from the set `fruits`\n",
    "    What happens if you try to remove an item that doesn’t exist?"
   ]
  },
  {
   "cell_type": "code",
   "execution_count": 88,
   "id": "02672476-0360-49be-8d98-d623e4d3b1a9",
   "metadata": {},
   "outputs": [],
   "source": [
    "fruits.remove(\"banana\")  # ❌ Error if not found\n",
    "# OR safe version:\n",
    "fruits.discard(\"banana\")\n"
   ]
  },
  {
   "cell_type": "markdown",
   "id": "2693b66c-d92a-48e8-b0f2-767811a35f5f",
   "metadata": {},
   "source": [
    "71. Check if \"apple\" is in the set `fruits`"
   ]
  },
  {
   "cell_type": "code",
   "execution_count": 83,
   "id": "5ccf607c-bfeb-4464-b303-76e0ad9b4672",
   "metadata": {},
   "outputs": [
    {
     "name": "stdout",
     "output_type": "stream",
     "text": [
      "True\n"
     ]
    }
   ],
   "source": [
    "print(\"apple\" in fruits)\n"
   ]
  },
  {
   "cell_type": "markdown",
   "id": "0e2a0c16-c4ce-407c-af09-97c11771be04",
   "metadata": {},
   "source": [
    "72. Given a list: [1, 2, 2, 3, 4, 4, 5]\n",
    "    Use a set to remove duplicates"
   ]
  },
  {
   "cell_type": "code",
   "execution_count": 84,
   "id": "855e38e8-750c-4371-9cb3-1e74ce364f4d",
   "metadata": {},
   "outputs": [
    {
     "name": "stdout",
     "output_type": "stream",
     "text": [
      "[1, 2, 3, 4, 5]\n"
     ]
    }
   ],
   "source": [
    "my_list = [1, 2, 2, 3, 4, 4, 5]\n",
    "unique = list(set(my_list))\n",
    "print(unique)\n"
   ]
  },
  {
   "cell_type": "markdown",
   "id": "96116baa-3fa8-49cc-a286-108a45170693",
   "metadata": {},
   "source": [
    "73. Given a sentence: \"hello world and hello python\"\n",
    "    Find all unique words"
   ]
  },
  {
   "cell_type": "code",
   "execution_count": 85,
   "id": "df4e1092-f56d-45b8-8617-d87cb192b99a",
   "metadata": {},
   "outputs": [
    {
     "name": "stdout",
     "output_type": "stream",
     "text": [
      "Unique words: {'world', 'hello', 'python', 'and'}\n"
     ]
    }
   ],
   "source": [
    "sentence = \"hello world and hello python\"\n",
    "words = set(sentence.split())\n",
    "print(\"Unique words:\", words)\n"
   ]
  },
  {
   "cell_type": "code",
   "execution_count": null,
   "id": "13681480-fb7a-47e8-a667-8b6cbcbdd96b",
   "metadata": {},
   "outputs": [],
   "source": []
  }
 ],
 "metadata": {
  "kernelspec": {
   "display_name": "Python [conda env:base]",
   "language": "python",
   "name": "python3"
  },
  "language_info": {
   "codemirror_mode": {
    "name": "ipython",
    "version": 3
   },
   "file_extension": ".py",
   "mimetype": "text/x-python",
   "name": "python",
   "nbconvert_exporter": "python",
   "pygments_lexer": "ipython3",
   "version": "3.13.5"
  }
 },
 "nbformat": 4,
 "nbformat_minor": 5
}
