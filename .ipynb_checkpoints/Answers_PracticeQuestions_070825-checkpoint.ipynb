{
 "cells": [
  {
   "cell_type": "code",
   "execution_count": 1,
   "id": "8fbd262b-4de8-4d87-ad6f-6070b4b22152",
   "metadata": {},
   "outputs": [],
   "source": [
    "question_one = \"experience elevates everyone\""
   ]
  },
  {
   "cell_type": "code",
   "execution_count": 2,
   "id": "ddf7715a-553c-4cc3-9fc2-247e7ea8f8a0",
   "metadata": {},
   "outputs": [
    {
     "data": {
      "text/plain": [
       "'experience elevates everyone'"
      ]
     },
     "execution_count": 2,
     "metadata": {},
     "output_type": "execute_result"
    }
   ],
   "source": [
    "question_one"
   ]
  },
  {
   "cell_type": "code",
   "execution_count": 3,
   "id": "0528ac95-ab83-40f1-b3db-8cd313ba87a8",
   "metadata": {},
   "outputs": [
    {
     "data": {
      "text/plain": [
       "10"
      ]
     },
     "execution_count": 3,
     "metadata": {},
     "output_type": "execute_result"
    }
   ],
   "source": [
    "question_one.count(\"e\")"
   ]
  },
  {
   "cell_type": "code",
   "execution_count": 4,
   "id": "d38075d6-e331-4ea6-bd3b-0c58dbed77b1",
   "metadata": {},
   "outputs": [],
   "source": [
    "question_two = \"Hello, how are you?\""
   ]
  },
  {
   "cell_type": "code",
   "execution_count": 5,
   "id": "b7d5b6be-56fe-4fe5-a32a-ce64b56dbbd9",
   "metadata": {},
   "outputs": [
    {
     "data": {
      "text/plain": [
       "True"
      ]
     },
     "execution_count": 5,
     "metadata": {},
     "output_type": "execute_result"
    }
   ],
   "source": [
    "question_two.startswith(\"Hello\")"
   ]
  },
  {
   "cell_type": "code",
   "execution_count": 6,
   "id": "53e97e5b-da5d-44cc-95ea-ce6c5d230479",
   "metadata": {},
   "outputs": [
    {
     "data": {
      "text/plain": [
       "False"
      ]
     },
     "execution_count": 6,
     "metadata": {},
     "output_type": "execute_result"
    }
   ],
   "source": [
    "question_two_b = \"Hi there!\"\n",
    "question_two_b.startswith(\"Hello\")"
   ]
  },
  {
   "cell_type": "code",
   "execution_count": 7,
   "id": "5217528b-9dca-4ed2-b98b-494bfc282070",
   "metadata": {},
   "outputs": [
    {
     "data": {
      "text/plain": [
       "False"
      ]
     },
     "execution_count": 7,
     "metadata": {},
     "output_type": "execute_result"
    }
   ],
   "source": [
    "question_two_c = \"example.org\"\n",
    "question_two_c.startswith(\"Hello\")"
   ]
  },
  {
   "cell_type": "code",
   "execution_count": 9,
   "id": "0dbd93ce-f88c-4869-a74e-490538e66096",
   "metadata": {},
   "outputs": [
    {
     "data": {
      "text/plain": [
       "True"
      ]
     },
     "execution_count": 9,
     "metadata": {},
     "output_type": "execute_result"
    }
   ],
   "source": [
    "question_three = \"HelloWorld\"\n",
    "question_three.isalpha()\n"
   ]
  },
  {
   "cell_type": "code",
   "execution_count": 10,
   "id": "fb44b4cc-9d3a-4572-8004-db05b8a2f969",
   "metadata": {},
   "outputs": [
    {
     "data": {
      "text/plain": [
       "False"
      ]
     },
     "execution_count": 10,
     "metadata": {},
     "output_type": "execute_result"
    }
   ],
   "source": [
    "question_three_b = \"Hello123\"\n",
    "question_three_b.isalpha()"
   ]
  },
  {
   "cell_type": "code",
   "execution_count": 12,
   "id": "55df3ff2-8045-4f19-93f5-161f12452aa9",
   "metadata": {},
   "outputs": [
    {
     "data": {
      "text/plain": [
       "True"
      ]
     },
     "execution_count": 12,
     "metadata": {},
     "output_type": "execute_result"
    }
   ],
   "source": [
    "question_three_c = \"12345\"\n",
    "question_three_c.isnumeric()"
   ]
  },
  {
   "cell_type": "code",
   "execution_count": 13,
   "id": "b06e5e35-fb68-43a9-8200-b4d55f259118",
   "metadata": {},
   "outputs": [
    {
     "data": {
      "text/plain": [
       "False"
      ]
     },
     "execution_count": 13,
     "metadata": {},
     "output_type": "execute_result"
    }
   ],
   "source": [
    "question_three_d = \"12a45\"\n",
    "question_three_d.isnumeric()"
   ]
  },
  {
   "cell_type": "code",
   "execution_count": 23,
   "id": "ab937164-513b-447f-a3c5-b89c99e8c5df",
   "metadata": {},
   "outputs": [
    {
     "data": {
      "text/plain": [
       "4"
      ]
     },
     "execution_count": 23,
     "metadata": {},
     "output_type": "execute_result"
    }
   ],
   "source": [
    "question_four = \"sun shines on sandy shores\"\n",
    "split = question_four.split()\n",
    "sum(s_word.lower().startswith(\"s\") for s_word in split)"
   ]
  },
  {
   "cell_type": "code",
   "execution_count": 25,
   "id": "f363348a-f2ec-4286-ae75-697e01a5316a",
   "metadata": {},
   "outputs": [
    {
     "data": {
      "text/plain": [
       "'HELLO WORLD'"
      ]
     },
     "execution_count": 25,
     "metadata": {},
     "output_type": "execute_result"
    }
   ],
   "source": [
    "question_five = \"hello world\"\n",
    "question_five.upper()"
   ]
  },
  {
   "cell_type": "code",
   "execution_count": 26,
   "id": "a55c5d42-5e5a-4ae9-a672-9e0b39e44ac6",
   "metadata": {},
   "outputs": [
    {
     "data": {
      "text/plain": [
       "'python is fun'"
      ]
     },
     "execution_count": 26,
     "metadata": {},
     "output_type": "execute_result"
    }
   ],
   "source": [
    "question_six = \"Python is FUN\"\n",
    "question_six.lower()"
   ]
  },
  {
   "cell_type": "code",
   "execution_count": 29,
   "id": "b01305b1-cddc-4510-b73d-62d97bd16e25",
   "metadata": {},
   "outputs": [
    {
     "data": {
      "text/plain": [
       "False"
      ]
     },
     "execution_count": 29,
     "metadata": {},
     "output_type": "execute_result"
    }
   ],
   "source": [
    "question_seven = \"WELCOME\"\n",
    "question_seven.isupper()\n",
    "question_seven.islower()"
   ]
  },
  {
   "cell_type": "code",
   "execution_count": 30,
   "id": "eea31720-0717-4dd4-b3ba-665708698c86",
   "metadata": {},
   "outputs": [
    {
     "data": {
      "text/plain": [
       "'Hello world'"
      ]
     },
     "execution_count": 30,
     "metadata": {},
     "output_type": "execute_result"
    }
   ],
   "source": [
    "question_eight = \"hello world\"\n",
    "question_eight.capitalize()"
   ]
  },
  {
   "cell_type": "code",
   "execution_count": 31,
   "id": "22646719-aae5-41da-9c81-96c75b84a645",
   "metadata": {},
   "outputs": [
    {
     "data": {
      "text/plain": [
       "'Python'"
      ]
     },
     "execution_count": 31,
     "metadata": {},
     "output_type": "execute_result"
    }
   ],
   "source": [
    "question_eight_b = \"PYTHON\"\n",
    "question_eight_b.capitalize()"
   ]
  },
  {
   "cell_type": "code",
   "execution_count": null,
   "id": "16a07fba-8d97-491e-994a-367d153e774a",
   "metadata": {},
   "outputs": [],
   "source": []
  }
 ],
 "metadata": {
  "kernelspec": {
   "display_name": "Python [conda env:base]",
   "language": "python",
   "name": "python3"
  },
  "language_info": {
   "codemirror_mode": {
    "name": "ipython",
    "version": 3
   },
   "file_extension": ".py",
   "mimetype": "text/x-python",
   "name": "python",
   "nbconvert_exporter": "python",
   "pygments_lexer": "ipython3",
   "version": "3.13.5"
  }
 },
 "nbformat": 4,
 "nbformat_minor": 5
}
