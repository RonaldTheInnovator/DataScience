{
 "cells": [
  {
   "cell_type": "markdown",
   "id": "5c399547-7924-475a-ad95-e4a59c216dd0",
   "metadata": {},
   "source": [
    "1. Write a function that takes two numbers and returns their sum."
   ]
  },
  {
   "cell_type": "code",
   "execution_count": 1,
   "id": "36af2cf8-c428-4443-8883-fa6136a9108f",
   "metadata": {},
   "outputs": [],
   "source": [
    "def addittion(a,b):\n",
    "    return a + b\n",
    "    "
   ]
  },
  {
   "cell_type": "code",
   "execution_count": 2,
   "id": "712d5000-9717-492f-a013-a59544f0a8f2",
   "metadata": {},
   "outputs": [
    {
     "data": {
      "text/plain": [
       "3"
      ]
     },
     "execution_count": 2,
     "metadata": {},
     "output_type": "execute_result"
    }
   ],
   "source": [
    "addittion(1,2)"
   ]
  },
  {
   "cell_type": "markdown",
   "id": "88fa3075-690d-4e07-9012-2a59472216b7",
   "metadata": {},
   "source": [
    "2. Write a function that takes a string and returns it reversed."
   ]
  },
  {
   "cell_type": "code",
   "execution_count": 3,
   "id": "6476770b-a89e-4201-89e0-0214351eb320",
   "metadata": {},
   "outputs": [],
   "source": [
    "def reverseString(text):\n",
    "    return text[::-1]\n",
    "    "
   ]
  },
  {
   "cell_type": "code",
   "execution_count": 4,
   "id": "f306586d-2e52-4403-8b7a-fb24790feffb",
   "metadata": {},
   "outputs": [
    {
     "data": {
      "text/plain": [
       "'dlanoR'"
      ]
     },
     "execution_count": 4,
     "metadata": {},
     "output_type": "execute_result"
    }
   ],
   "source": [
    "reverseString(\"Ronald\")"
   ]
  },
  {
   "cell_type": "code",
   "execution_count": 8,
   "id": "b00777bf-bfb1-4973-83d0-7c2f7bbd055f",
   "metadata": {},
   "outputs": [],
   "source": [
    "def reverseString2(s: str) -> str:\n",
    "    return s[::-1]"
   ]
  },
  {
   "cell_type": "code",
   "execution_count": 9,
   "id": "49aa8f46-7e59-4131-b54b-f11dbea5660d",
   "metadata": {},
   "outputs": [
    {
     "data": {
      "text/plain": [
       "'RdlanoR'"
      ]
     },
     "execution_count": 9,
     "metadata": {},
     "output_type": "execute_result"
    }
   ],
   "source": [
    "reverseString2(\"RonaldR\")"
   ]
  },
  {
   "cell_type": "markdown",
   "id": "621ed2d6-f817-4cac-99f1-3ea33312f49f",
   "metadata": {},
   "source": [
    "3. Write a function that checks if a number is even or odd."
   ]
  },
  {
   "cell_type": "code",
   "execution_count": 10,
   "id": "c5f729ed-c8db-4a3d-acb6-031f433d65de",
   "metadata": {},
   "outputs": [],
   "source": [
    "def checkOddorEven(s: int) -> int:\n",
    "    if s%2 == 0:\n",
    "        return \"Even\"\n",
    "    else:\n",
    "        return \"Odd\"\n",
    "    "
   ]
  },
  {
   "cell_type": "code",
   "execution_count": 12,
   "id": "4fdfa38c-a1ea-42bc-b5e9-920e47608d8c",
   "metadata": {},
   "outputs": [
    {
     "data": {
      "text/plain": [
       "'Odd'"
      ]
     },
     "execution_count": 12,
     "metadata": {},
     "output_type": "execute_result"
    }
   ],
   "source": [
    "checkOddorEven(1)"
   ]
  },
  {
   "cell_type": "markdown",
   "id": "1d2737a7-1c02-4da5-88e1-8960a05732fb",
   "metadata": {},
   "source": [
    "4. Write a function that returns the factorial of a number."
   ]
  },
  {
   "cell_type": "code",
   "execution_count": 15,
   "id": "dc52f416-e2da-4932-a083-2ce019416064",
   "metadata": {},
   "outputs": [],
   "source": [
    "def factorial_recursive(n: int) -> int:\n",
    "    if n == 0 or n == 1:\n",
    "        return 1\n",
    "    return n* factorial_recursive(n - 1)"
   ]
  },
  {
   "cell_type": "code",
   "execution_count": 18,
   "id": "c5ea897c-35b0-4e94-8506-7d636ecd5ce7",
   "metadata": {},
   "outputs": [
    {
     "data": {
      "text/plain": [
       "24"
      ]
     },
     "execution_count": 18,
     "metadata": {},
     "output_type": "execute_result"
    }
   ],
   "source": [
    "factorial_recursive(4)"
   ]
  },
  {
   "cell_type": "markdown",
   "id": "5d6e561e-cdb5-4379-9b6e-303f0868c22b",
   "metadata": {},
   "source": [
    "5. Write a function that takes a list and returns the maximum element."
   ]
  },
  {
   "cell_type": "code",
   "execution_count": 19,
   "id": "07ee55b0-ba22-4b00-b69b-f77899b0e6ae",
   "metadata": {},
   "outputs": [],
   "source": [
    "def find_max_builtin(lst: list) -> int:\n",
    "    return max(lst) if lst else None"
   ]
  },
  {
   "cell_type": "code",
   "execution_count": 20,
   "id": "81e85402-f943-4ba5-959a-95c149f8377b",
   "metadata": {},
   "outputs": [
    {
     "data": {
      "text/plain": [
       "5"
      ]
     },
     "execution_count": 20,
     "metadata": {},
     "output_type": "execute_result"
    }
   ],
   "source": [
    "find_max_builtin([1,2,3,4,5])"
   ]
  },
  {
   "cell_type": "markdown",
   "id": "2c1c9d5f-e4d6-44f7-bdfa-f9d1b45263d7",
   "metadata": {},
   "source": [
    "6. Print numbers from 1 to 10 using a for loop."
   ]
  },
  {
   "cell_type": "code",
   "execution_count": 21,
   "id": "d7fbea15-d8eb-41e4-9ad3-c4221b3a6096",
   "metadata": {},
   "outputs": [],
   "source": [
    "num = 100"
   ]
  },
  {
   "cell_type": "code",
   "execution_count": 24,
   "id": "d8e0979c-8114-4cfc-a8eb-e2bb830ecdf4",
   "metadata": {},
   "outputs": [
    {
     "name": "stdout",
     "output_type": "stream",
     "text": [
      "1\n",
      "2\n",
      "3\n",
      "4\n",
      "5\n",
      "6\n",
      "7\n",
      "8\n",
      "9\n",
      "10\n",
      "11\n",
      "12\n",
      "13\n",
      "14\n",
      "15\n",
      "16\n",
      "17\n",
      "18\n",
      "19\n",
      "20\n",
      "21\n",
      "22\n",
      "23\n",
      "24\n",
      "25\n",
      "26\n",
      "27\n",
      "28\n",
      "29\n",
      "30\n",
      "31\n",
      "32\n",
      "33\n",
      "34\n",
      "35\n",
      "36\n",
      "37\n",
      "38\n",
      "39\n",
      "40\n",
      "41\n",
      "42\n",
      "43\n",
      "44\n",
      "45\n",
      "46\n",
      "47\n",
      "48\n",
      "49\n",
      "50\n",
      "51\n",
      "52\n",
      "53\n",
      "54\n",
      "55\n",
      "56\n",
      "57\n",
      "58\n",
      "59\n",
      "60\n",
      "61\n",
      "62\n",
      "63\n",
      "64\n",
      "65\n",
      "66\n",
      "67\n",
      "68\n",
      "69\n",
      "70\n",
      "71\n",
      "72\n",
      "73\n",
      "74\n",
      "75\n",
      "76\n",
      "77\n",
      "78\n",
      "79\n",
      "80\n",
      "81\n",
      "82\n",
      "83\n",
      "84\n",
      "85\n",
      "86\n",
      "87\n",
      "88\n",
      "89\n",
      "90\n",
      "91\n",
      "92\n",
      "93\n",
      "94\n",
      "95\n",
      "96\n",
      "97\n",
      "98\n",
      "99\n"
     ]
    }
   ],
   "source": [
    "for i in range(1,100):\n",
    "    print(i)"
   ]
  },
  {
   "cell_type": "markdown",
   "id": "1c2dabf1-462f-47f1-bb2e-a38d8130fe47",
   "metadata": {},
   "source": [
    "7. Print each character in a string using a for loop."
   ]
  },
  {
   "cell_type": "code",
   "execution_count": 25,
   "id": "60ffeafb-be71-4700-acb7-950abc09a5ee",
   "metadata": {},
   "outputs": [],
   "source": [
    "name = \"Ronald\""
   ]
  },
  {
   "cell_type": "code",
   "execution_count": 26,
   "id": "98173bb1-0ae4-431c-8d45-8a88ac2ad3e3",
   "metadata": {},
   "outputs": [
    {
     "name": "stdout",
     "output_type": "stream",
     "text": [
      "R\n",
      "o\n",
      "n\n",
      "a\n",
      "l\n",
      "d\n"
     ]
    }
   ],
   "source": [
    "for i in name:\n",
    "    print(i)"
   ]
  },
  {
   "cell_type": "markdown",
   "id": "44bc5260-c9a4-4bd4-9a4d-1e5ef42669f2",
   "metadata": {},
   "source": [
    "8. Write a program that sums all numbers in a list using a for loop."
   ]
  },
  {
   "cell_type": "code",
   "execution_count": 27,
   "id": "43e68589-7c08-4427-811c-b20d97d7cca1",
   "metadata": {},
   "outputs": [],
   "source": [
    "def sum_list(lst: list) -> int:\n",
    "    total = 0\n",
    "    for num in lst:\n",
    "        total += num\n",
    "    return total"
   ]
  },
  {
   "cell_type": "code",
   "execution_count": 28,
   "id": "534978a3-2a03-4e13-ac92-ac03700bd00f",
   "metadata": {},
   "outputs": [
    {
     "data": {
      "text/plain": [
       "15"
      ]
     },
     "execution_count": 28,
     "metadata": {},
     "output_type": "execute_result"
    }
   ],
   "source": [
    "sum_list([1,2,3,4,5])"
   ]
  },
  {
   "cell_type": "markdown",
   "id": "a89e17f1-0b24-496d-9ad8-3ff8588ed04d",
   "metadata": {},
   "source": [
    "9. Print the multiplication table of a given number using a for loop."
   ]
  },
  {
   "cell_type": "code",
   "execution_count": 29,
   "id": "40190fd3-6a09-4da1-a502-7241fc001e48",
   "metadata": {},
   "outputs": [],
   "source": [
    "def multiplication_table(n: int):\n",
    "    for i in range(1, 11):\n",
    "        print(f\"{n} x {i} = {n * i}\")"
   ]
  },
  {
   "cell_type": "code",
   "execution_count": 30,
   "id": "4017a25e-e723-43c2-a685-dd3951f0fec6",
   "metadata": {},
   "outputs": [
    {
     "name": "stdout",
     "output_type": "stream",
     "text": [
      "5 x 1 = 5\n",
      "5 x 2 = 10\n",
      "5 x 3 = 15\n",
      "5 x 4 = 20\n",
      "5 x 5 = 25\n",
      "5 x 6 = 30\n",
      "5 x 7 = 35\n",
      "5 x 8 = 40\n",
      "5 x 9 = 45\n",
      "5 x 10 = 50\n"
     ]
    }
   ],
   "source": [
    "multiplication_table(5)"
   ]
  },
  {
   "cell_type": "markdown",
   "id": "6b87ca88-76c4-46b4-9753-ae57cf4c5c37",
   "metadata": {},
   "source": [
    "10. Write a program that prints all even numbers from 1 to 50."
   ]
  },
  {
   "cell_type": "code",
   "execution_count": 31,
   "id": "a02aa91b-60bc-4415-99ec-3b11812a0642",
   "metadata": {},
   "outputs": [],
   "source": [
    "def print_even_numbers():\n",
    "    for i in range(1, 51):\n",
    "        if i % 2 == 0:\n",
    "            print(i)"
   ]
  },
  {
   "cell_type": "code",
   "execution_count": 32,
   "id": "f5d34dfc-1c9a-4900-bb86-baff7addf444",
   "metadata": {},
   "outputs": [
    {
     "name": "stdout",
     "output_type": "stream",
     "text": [
      "2\n",
      "4\n",
      "6\n",
      "8\n",
      "10\n",
      "12\n",
      "14\n",
      "16\n",
      "18\n",
      "20\n",
      "22\n",
      "24\n",
      "26\n",
      "28\n",
      "30\n",
      "32\n",
      "34\n",
      "36\n",
      "38\n",
      "40\n",
      "42\n",
      "44\n",
      "46\n",
      "48\n",
      "50\n"
     ]
    }
   ],
   "source": [
    "print_even_numbers()"
   ]
  },
  {
   "cell_type": "markdown",
   "id": "2b094f58-862e-4c68-b77a-a75a83d4cd99",
   "metadata": {},
   "source": [
    "11. Print numbers from 1 to 10 using a while loop."
   ]
  },
  {
   "cell_type": "code",
   "execution_count": 33,
   "id": "3a2506f6-f22c-46cb-af12-274215ab6f38",
   "metadata": {},
   "outputs": [],
   "source": [
    "def print_numbers():\n",
    "    i = 1\n",
    "    while i <= 10:\n",
    "        print(i)\n",
    "        i += 1"
   ]
  },
  {
   "cell_type": "code",
   "execution_count": 34,
   "id": "dd20dff9-cced-467c-8be1-cff4b4574ab8",
   "metadata": {},
   "outputs": [
    {
     "name": "stdout",
     "output_type": "stream",
     "text": [
      "1\n",
      "2\n",
      "3\n",
      "4\n",
      "5\n",
      "6\n",
      "7\n",
      "8\n",
      "9\n",
      "10\n"
     ]
    }
   ],
   "source": [
    "print_numbers()"
   ]
  },
  {
   "cell_type": "markdown",
   "id": "eb466b2d-4dd4-472c-8602-fde2c959e688",
   "metadata": {},
   "source": [
    "12. Keep taking input from the user until they type \"exit\"."
   ]
  },
  {
   "cell_type": "code",
   "execution_count": 35,
   "id": "f6b155b4-a01e-4bf4-8592-9dbd6efcaebe",
   "metadata": {},
   "outputs": [],
   "source": [
    "def take_input():\n",
    "    while True:\n",
    "        user_input = input(\"Enter something (type 'exit' to quit): \")\n",
    "        if user_input.lower() == \"exit\":\n",
    "            print(\"Exiting... Goodbye!\")\n",
    "            break\n",
    "        else:\n",
    "            print(f\"You typed: {user_input}\")"
   ]
  },
  {
   "cell_type": "code",
   "execution_count": 36,
   "id": "7daff7d3-86ff-403b-88c6-51c0fabd4c53",
   "metadata": {},
   "outputs": [
    {
     "name": "stdin",
     "output_type": "stream",
     "text": [
      "Enter something (type 'exit' to quit):  yes\n"
     ]
    },
    {
     "name": "stdout",
     "output_type": "stream",
     "text": [
      "You typed: yes\n"
     ]
    },
    {
     "name": "stdin",
     "output_type": "stream",
     "text": [
      "Enter something (type 'exit' to quit):  Ronald\n"
     ]
    },
    {
     "name": "stdout",
     "output_type": "stream",
     "text": [
      "You typed: Ronald\n"
     ]
    },
    {
     "name": "stdin",
     "output_type": "stream",
     "text": [
      "Enter something (type 'exit' to quit):  EXIT\n"
     ]
    },
    {
     "name": "stdout",
     "output_type": "stream",
     "text": [
      "Exiting... Goodbye!\n"
     ]
    }
   ],
   "source": [
    "take_input()"
   ]
  },
  {
   "cell_type": "markdown",
   "id": "d02f4563-94c8-4ce5-9884-c057e85ee92a",
   "metadata": {},
   "source": [
    "13. Write a program that finds the sum of digits of a number using a while loop."
   ]
  },
  {
   "cell_type": "code",
   "execution_count": 37,
   "id": "7c7b9a1e-aa66-48c4-af0f-22c5946e4418",
   "metadata": {},
   "outputs": [],
   "source": [
    "def sum_of_digits(n: int) -> int:\n",
    "    total = 0\n",
    "    while n > 0:\n",
    "        digit = n % 10       # get last digit\n",
    "        total += digit       # add it to total\n",
    "        n //= 10             # remove last digit\n",
    "    return total"
   ]
  },
  {
   "cell_type": "code",
   "execution_count": 38,
   "id": "ed54c888-5d19-4bf0-86b9-b50f1296ef41",
   "metadata": {},
   "outputs": [
    {
     "data": {
      "text/plain": [
       "1"
      ]
     },
     "execution_count": 38,
     "metadata": {},
     "output_type": "execute_result"
    }
   ],
   "source": [
    "sum_of_digits(10)"
   ]
  },
  {
   "cell_type": "markdown",
   "id": "9f4c6375-5dac-48eb-814e-1fd72e2261cc",
   "metadata": {},
   "source": [
    "14. Guess the number game: Keep asking the user until they guess the correct number."
   ]
  },
  {
   "cell_type": "code",
   "execution_count": 39,
   "id": "68d3da57-3ca1-437b-aaf6-c734df5d9677",
   "metadata": {},
   "outputs": [],
   "source": [
    "import random\n",
    "\n",
    "def guess_number_game():\n",
    "    secret_number = random.randint(1, 100)  # pick a random number between 1 and 100\n",
    "    print(\"🎲 I'm thinking of a number between 1 and 100. Can you guess it?\")\n",
    "    \n",
    "    while True:\n",
    "        guess = input(\"Enter your guess: \")\n",
    "        \n",
    "        # check if input is a number\n",
    "        if not guess.isdigit():\n",
    "            print(\"❌ Please enter a valid number.\")\n",
    "            continue\n",
    "        \n",
    "        guess = int(guess)\n",
    "        \n",
    "        if guess < secret_number:\n",
    "            print(\"Too low! Try again.\")\n",
    "        elif guess > secret_number:\n",
    "            print(\"Too high! Try again.\")\n",
    "        else:\n",
    "            print(f\"✅ Correct! The number was {secret_number}.\")\n",
    "            break"
   ]
  },
  {
   "cell_type": "code",
   "execution_count": 40,
   "id": "85ea68f0-91a0-4a66-a7e8-fa3283b64fac",
   "metadata": {},
   "outputs": [
    {
     "name": "stdout",
     "output_type": "stream",
     "text": [
      "🎲 I'm thinking of a number between 1 and 100. Can you guess it?\n"
     ]
    },
    {
     "name": "stdin",
     "output_type": "stream",
     "text": [
      "Enter your guess:  3\n"
     ]
    },
    {
     "name": "stdout",
     "output_type": "stream",
     "text": [
      "Too low! Try again.\n"
     ]
    },
    {
     "name": "stdin",
     "output_type": "stream",
     "text": [
      "Enter your guess:  50\n"
     ]
    },
    {
     "name": "stdout",
     "output_type": "stream",
     "text": [
      "Too high! Try again.\n"
     ]
    },
    {
     "name": "stdin",
     "output_type": "stream",
     "text": [
      "Enter your guess:  30\n"
     ]
    },
    {
     "name": "stdout",
     "output_type": "stream",
     "text": [
      "Too high! Try again.\n"
     ]
    },
    {
     "name": "stdin",
     "output_type": "stream",
     "text": [
      "Enter your guess:  20\n"
     ]
    },
    {
     "name": "stdout",
     "output_type": "stream",
     "text": [
      "Too high! Try again.\n"
     ]
    },
    {
     "name": "stdin",
     "output_type": "stream",
     "text": [
      "Enter your guess:  15\n"
     ]
    },
    {
     "name": "stdout",
     "output_type": "stream",
     "text": [
      "Too high! Try again.\n"
     ]
    },
    {
     "name": "stdin",
     "output_type": "stream",
     "text": [
      "Enter your guess:  12\n"
     ]
    },
    {
     "name": "stdout",
     "output_type": "stream",
     "text": [
      "Too low! Try again.\n"
     ]
    },
    {
     "name": "stdin",
     "output_type": "stream",
     "text": [
      "Enter your guess:  13\n"
     ]
    },
    {
     "name": "stdout",
     "output_type": "stream",
     "text": [
      "Too low! Try again.\n"
     ]
    },
    {
     "name": "stdin",
     "output_type": "stream",
     "text": [
      "Enter your guess:  14\n"
     ]
    },
    {
     "name": "stdout",
     "output_type": "stream",
     "text": [
      "✅ Correct! The number was 14.\n"
     ]
    }
   ],
   "source": [
    "guess_number_game()"
   ]
  },
  {
   "cell_type": "markdown",
   "id": "c719064c-6529-4d4c-98f7-5ab335cbc129",
   "metadata": {},
   "source": [
    "15. Print the Fibonacci sequence up to n terms using a while loop."
   ]
  },
  {
   "cell_type": "code",
   "execution_count": 41,
   "id": "6d5c53bd-8ffb-4243-b4bd-3d56dbe4b704",
   "metadata": {},
   "outputs": [],
   "source": [
    "def fibonacci(n: int):\n",
    "    a, b = 0, 1\n",
    "    count = 0\n",
    "    while count < n:\n",
    "        print(a, end=\" \")\n",
    "        a, b = b, a + b\n",
    "        count += 1"
   ]
  },
  {
   "cell_type": "code",
   "execution_count": 43,
   "id": "dc0a9277-311a-496f-88f3-92143a38b387",
   "metadata": {},
   "outputs": [
    {
     "name": "stdout",
     "output_type": "stream",
     "text": [
      "0 1 1 2 3 "
     ]
    }
   ],
   "source": [
    "fibonacci(5)"
   ]
  },
  {
   "cell_type": "markdown",
   "id": "b547f991-8fe4-4d3a-8584-0c77af39a09a",
   "metadata": {},
   "source": [
    "16. Write a function that takes variable number of arguments using *args and returns their sum."
   ]
  },
  {
   "cell_type": "code",
   "execution_count": 44,
   "id": "94940253-a55d-49ab-bc00-aefa87da6781",
   "metadata": {},
   "outputs": [],
   "source": [
    "def sum_numbers(*args):\n",
    "    total = 0\n",
    "    for num in args:\n",
    "        total += num\n",
    "    return total"
   ]
  },
  {
   "cell_type": "code",
   "execution_count": 45,
   "id": "cbb166f5-0112-457b-98bd-88edeb1c951f",
   "metadata": {},
   "outputs": [
    {
     "data": {
      "text/plain": [
       "15"
      ]
     },
     "execution_count": 45,
     "metadata": {},
     "output_type": "execute_result"
    }
   ],
   "source": [
    "sum_numbers(1,2,3,4,5)"
   ]
  },
  {
   "cell_type": "markdown",
   "id": "18f8dd3b-3feb-48fc-bc7c-f09bb59ae874",
   "metadata": {},
   "source": [
    "17. Write a program that unpacks a list into separate variables using *."
   ]
  },
  {
   "cell_type": "code",
   "execution_count": 46,
   "id": "90ead137-d1ea-4318-9c62-8ee3b649313b",
   "metadata": {},
   "outputs": [],
   "source": [
    "def unpack_list():\n",
    "    numbers = [10, 20, 30, 40]\n",
    "\n",
    "    a, b, *rest = numbers  # unpack\n",
    "    print(\"a =\", a)\n",
    "    print(\"b =\", b)\n",
    "    print(\"rest =\", rest)"
   ]
  },
  {
   "cell_type": "code",
   "execution_count": 47,
   "id": "7af337ad-c6be-4461-9061-8aefc32b2a1c",
   "metadata": {},
   "outputs": [
    {
     "name": "stdout",
     "output_type": "stream",
     "text": [
      "a = 10\n",
      "b = 20\n",
      "rest = [30, 40]\n"
     ]
    }
   ],
   "source": [
    "unpack_list()"
   ]
  },
  {
   "cell_type": "markdown",
   "id": "d2f1b4f8-cc6c-4899-8f45-a802a5f1be17",
   "metadata": {},
   "source": [
    "18. Create a function that multiplies a number with itself n times using * (e.g., 2 * 3 = 6)."
   ]
  },
  {
   "cell_type": "code",
   "execution_count": 48,
   "id": "6fc7751d-6914-4c22-966e-30cd148f9012",
   "metadata": {},
   "outputs": [],
   "source": [
    "def power(num: int, n: int) -> int:\n",
    "    result = 1\n",
    "    for _ in range(n):\n",
    "        result *= num\n",
    "    return result"
   ]
  },
  {
   "cell_type": "code",
   "execution_count": 49,
   "id": "7ce010d1-2075-44a6-96dc-d4faca0aea02",
   "metadata": {},
   "outputs": [
    {
     "data": {
      "text/plain": [
       "8"
      ]
     },
     "execution_count": 49,
     "metadata": {},
     "output_type": "execute_result"
    }
   ],
   "source": [
    "power(2,3)"
   ]
  },
  {
   "cell_type": "markdown",
   "id": "9cd67987-4dbc-4c4f-86f8-f28575431ff9",
   "metadata": {},
   "source": [
    "19. Use * to combine two lists into one:\n",
    "\n",
    "a = [1, 2]\n",
    "b = [3, 4]\n",
    "\n",
    "combined = [*a, *b]"
   ]
  },
  {
   "cell_type": "markdown",
   "id": "ab480387-3db9-4538-80a7-a6413edb1808",
   "metadata": {},
   "source": [
    "20. Write a function that checks whether a string is a palindrome."
   ]
  },
  {
   "cell_type": "code",
   "execution_count": 50,
   "id": "079acf2a-fa5f-4e17-b690-03cebfbc7c43",
   "metadata": {},
   "outputs": [],
   "source": [
    "def is_palindrome(s: str) -> bool:\n",
    "    s = s.lower().replace(\" \", \"\")  # make lowercase & remove spaces\n",
    "    return s == s[::-1]"
   ]
  },
  {
   "cell_type": "code",
   "execution_count": 51,
   "id": "a1dbf4d2-95ce-4325-8409-136e5fa6ab94",
   "metadata": {},
   "outputs": [
    {
     "data": {
      "text/plain": [
       "False"
      ]
     },
     "execution_count": 51,
     "metadata": {},
     "output_type": "execute_result"
    }
   ],
   "source": [
    "is_palindrome('Ronald')"
   ]
  },
  {
   "cell_type": "markdown",
   "id": "b58eceaf-f62e-4b45-83a2-c5bd641c2821",
   "metadata": {},
   "source": [
    "21. Write a function that returns the number of vowels in a given string."
   ]
  },
  {
   "cell_type": "code",
   "execution_count": 52,
   "id": "9a8c563c-1ce1-4b38-b882-eac00d8eb98f",
   "metadata": {},
   "outputs": [],
   "source": [
    "def count_vowels(s: str) -> int:\n",
    "    vowels = \"aeiou\"\n",
    "    count = 0\n",
    "    for char in s.lower():\n",
    "        if char in vowels:\n",
    "            count += 1\n",
    "    return count"
   ]
  },
  {
   "cell_type": "code",
   "execution_count": 53,
   "id": "e34a10ae-9666-433e-afbd-5c80a08a7565",
   "metadata": {},
   "outputs": [
    {
     "data": {
      "text/plain": [
       "2"
      ]
     },
     "execution_count": 53,
     "metadata": {},
     "output_type": "execute_result"
    }
   ],
   "source": [
    "count_vowels('Ronald')"
   ]
  },
  {
   "cell_type": "markdown",
   "id": "7638997e-698c-429d-995f-a8f709bdb507",
   "metadata": {},
   "source": [
    "22. Write a function that takes a list of numbers and returns only the even numbers."
   ]
  },
  {
   "cell_type": "code",
   "execution_count": 54,
   "id": "b17fdf83-7f68-4e25-8f30-3e5af823a00f",
   "metadata": {},
   "outputs": [],
   "source": [
    "def get_even_numbers(lst: list) -> list:\n",
    "    return [num for num in lst if num % 2 == 0]"
   ]
  },
  {
   "cell_type": "code",
   "execution_count": 55,
   "id": "9bcbf527-7d5c-4032-a77e-55e90c48118f",
   "metadata": {},
   "outputs": [
    {
     "data": {
      "text/plain": [
       "[2, 4]"
      ]
     },
     "execution_count": 55,
     "metadata": {},
     "output_type": "execute_result"
    }
   ],
   "source": [
    "get_even_numbers([1,2,3,4,5])"
   ]
  },
  {
   "cell_type": "markdown",
   "id": "d4579c70-a7d7-4ad1-ab88-eac8867928e0",
   "metadata": {},
   "source": [
    "23. Write a function that converts Celsius to Fahrenheit."
   ]
  },
  {
   "cell_type": "code",
   "execution_count": 56,
   "id": "b67a3ed7-d4c5-4687-a7da-a8e17919cf9c",
   "metadata": {},
   "outputs": [],
   "source": [
    "def celsius_to_fahrenheit(celsius: float) -> float:\n",
    "    return (celsius * 9/5) + 32"
   ]
  },
  {
   "cell_type": "code",
   "execution_count": 57,
   "id": "25bee503-38e0-4954-ba36-67e87962f16e",
   "metadata": {},
   "outputs": [
    {
     "data": {
      "text/plain": [
       "73.75999999999999"
      ]
     },
     "execution_count": 57,
     "metadata": {},
     "output_type": "execute_result"
    }
   ],
   "source": [
    "celsius_to_fahrenheit(23.2)"
   ]
  },
  {
   "cell_type": "markdown",
   "id": "cc8a80ef-d4c4-4050-a0f1-c2a76fd5eebf",
   "metadata": {},
   "source": [
    "24. Write a function that takes a string and returns the number of words in it."
   ]
  },
  {
   "cell_type": "code",
   "execution_count": 58,
   "id": "82b95462-b517-4ded-aeb8-b88f47545da8",
   "metadata": {},
   "outputs": [],
   "source": [
    "def count_words(s: str) -> int:\n",
    "    words = s.split()\n",
    "    return len(words)"
   ]
  },
  {
   "cell_type": "code",
   "execution_count": 60,
   "id": "54e4f8c4-85dd-46bb-9c6e-250fe4a4a78b",
   "metadata": {},
   "outputs": [
    {
     "data": {
      "text/plain": [
       "3"
      ]
     },
     "execution_count": 60,
     "metadata": {},
     "output_type": "execute_result"
    }
   ],
   "source": [
    "count_words(\"Ronald is great\")"
   ]
  },
  {
   "cell_type": "markdown",
   "id": "241c4efb-ca4a-4a47-a204-d59450574ffb",
   "metadata": {},
   "source": [
    "25. Write a function that uses *args and prints all values line by line with their index."
   ]
  },
  {
   "cell_type": "code",
   "execution_count": 61,
   "id": "6847f16a-1c3c-4af3-9e79-3adb5824882e",
   "metadata": {},
   "outputs": [],
   "source": [
    "def print_args_with_index(*args):\n",
    "    for index, value in enumerate(args):\n",
    "        print(f\"{index}: {value}\")"
   ]
  },
  {
   "cell_type": "code",
   "execution_count": 62,
   "id": "287e1972-8243-4531-b1b0-48976f470e41",
   "metadata": {},
   "outputs": [
    {
     "name": "stdout",
     "output_type": "stream",
     "text": [
      "0: 1\n",
      "1: 2\n",
      "2: 3\n",
      "3: 4\n",
      "4: 5\n"
     ]
    }
   ],
   "source": [
    "print_args_with_index(1,2,3,4,5)"
   ]
  },
  {
   "cell_type": "markdown",
   "id": "70126f65-5cec-4d98-9583-c64d13a7b8a0",
   "metadata": {},
   "source": [
    "26. Write a function that takes *args and returns their average."
   ]
  },
  {
   "cell_type": "code",
   "execution_count": 63,
   "id": "bb1a46bf-9544-4faf-b474-1fee65d5e751",
   "metadata": {},
   "outputs": [],
   "source": [
    "def average(*args):\n",
    "    if not args:  # handle case when no arguments are passed\n",
    "        return 0\n",
    "    return sum(args) / len(args)"
   ]
  },
  {
   "cell_type": "code",
   "execution_count": 64,
   "id": "80bc6c49-c86b-4f7a-b242-6259a169e579",
   "metadata": {},
   "outputs": [
    {
     "data": {
      "text/plain": [
       "2.5"
      ]
     },
     "execution_count": 64,
     "metadata": {},
     "output_type": "execute_result"
    }
   ],
   "source": [
    "average(1,2,3,4)"
   ]
  },
  {
   "cell_type": "markdown",
   "id": "694967f3-122c-456b-8ce4-ba46944be533",
   "metadata": {},
   "source": [
    "27. Keep asking the user to enter a positive number. Stop when they enter a negative number."
   ]
  },
  {
   "cell_type": "code",
   "execution_count": 65,
   "id": "a9dd93b6-34ef-41ee-a449-8951f656243a",
   "metadata": {},
   "outputs": [],
   "source": [
    "def ask_positive_numbers():\n",
    "    while True:\n",
    "        num = int(input(\"Enter a positive number (negative to stop): \"))\n",
    "        if num < 0:\n",
    "            print(\"Negative number entered. Stopping...\")\n",
    "            break\n",
    "        else:\n",
    "            print(f\"You entered: {num}\")"
   ]
  },
  {
   "cell_type": "code",
   "execution_count": 66,
   "id": "cb7a17f1-ce9d-4bb5-9ce1-2b28845ca168",
   "metadata": {},
   "outputs": [
    {
     "name": "stdin",
     "output_type": "stream",
     "text": [
      "Enter a positive number (negative to stop):  1\n"
     ]
    },
    {
     "name": "stdout",
     "output_type": "stream",
     "text": [
      "You entered: 1\n"
     ]
    },
    {
     "name": "stdin",
     "output_type": "stream",
     "text": [
      "Enter a positive number (negative to stop):  -1\n"
     ]
    },
    {
     "name": "stdout",
     "output_type": "stream",
     "text": [
      "Negative number entered. Stopping...\n"
     ]
    }
   ],
   "source": [
    "ask_positive_numbers()"
   ]
  },
  {
   "cell_type": "markdown",
   "id": "421d7c5c-ce34-4b71-81ab-3ee73271a1c2",
   "metadata": {},
   "source": [
    "28. Write a program to reverse a number using a while loop."
   ]
  },
  {
   "cell_type": "code",
   "execution_count": 67,
   "id": "b6a355cb-0848-4744-96ef-41b5f1dc4c65",
   "metadata": {},
   "outputs": [],
   "source": [
    "def reverse_number(n: int) -> int:\n",
    "    reversed_num = 0\n",
    "    while n > 0:\n",
    "        digit = n % 10              # get last digit\n",
    "        reversed_num = reversed_num * 10 + digit\n",
    "        n //= 10                    # remove last digit\n",
    "    return reversed_num"
   ]
  },
  {
   "cell_type": "code",
   "execution_count": 69,
   "id": "5917862e-3a90-40dd-9993-f4edcfa4a8cf",
   "metadata": {},
   "outputs": [
    {
     "data": {
      "text/plain": [
       "432"
      ]
     },
     "execution_count": 69,
     "metadata": {},
     "output_type": "execute_result"
    }
   ],
   "source": [
    "reverse_number(234)"
   ]
  },
  {
   "cell_type": "markdown",
   "id": "fb0e2e7e-fd84-40c9-bea4-7237aa3580a7",
   "metadata": {},
   "source": [
    "29. Find the first number divisible by both 3 and 5 greater than 100 using while."
   ]
  },
  {
   "cell_type": "code",
   "execution_count": 72,
   "id": "1c31312f-7e4d-457d-8b09-116f19ae2ea3",
   "metadata": {},
   "outputs": [],
   "source": [
    "def first_divisible_by_3_and_5():\n",
    "    num = 50  # start just after 100\n",
    "    while True:\n",
    "        if num % 3 == 0 and num % 5 == 0:\n",
    "            return num\n",
    "        num += 1"
   ]
  },
  {
   "cell_type": "code",
   "execution_count": 73,
   "id": "f3135f35-40b5-4afc-97c1-0d023d15b5c9",
   "metadata": {},
   "outputs": [
    {
     "data": {
      "text/plain": [
       "60"
      ]
     },
     "execution_count": 73,
     "metadata": {},
     "output_type": "execute_result"
    }
   ],
   "source": [
    "first_divisible_by_3_and_5()"
   ]
  },
  {
   "cell_type": "markdown",
   "id": "29341561-cc21-4fa8-ba74-8befe2bad86b",
   "metadata": {},
   "source": [
    "30. Use a while loop to check if a number is a prime."
   ]
  },
  {
   "cell_type": "code",
   "execution_count": 74,
   "id": "43479fed-46ea-4a00-a567-f2ec6070c587",
   "metadata": {},
   "outputs": [],
   "source": [
    "def is_prime(n: int) -> bool:\n",
    "    if n <= 1:\n",
    "        return False  # 0, 1 and negatives are not prime\n",
    "    \n",
    "    i = 2\n",
    "    while i * i <= n:   # only check up to sqrt(n)\n",
    "        if n % i == 0:\n",
    "            return False\n",
    "        i += 1\n",
    "    return True"
   ]
  },
  {
   "cell_type": "code",
   "execution_count": 75,
   "id": "c6d73c2e-bc58-4586-a691-3da4d5b42912",
   "metadata": {},
   "outputs": [
    {
     "data": {
      "text/plain": [
       "True"
      ]
     },
     "execution_count": 75,
     "metadata": {},
     "output_type": "execute_result"
    }
   ],
   "source": [
    "is_prime(3)"
   ]
  },
  {
   "cell_type": "markdown",
   "id": "f9388130-f8dd-4dcb-945a-39b6960705b3",
   "metadata": {},
   "source": [
    "31. Create a countdown timer using while, e.g., from 10 to 1."
   ]
  },
  {
   "cell_type": "code",
   "execution_count": 76,
   "id": "94587249-0e39-4d25-8fdc-346525bddb90",
   "metadata": {},
   "outputs": [],
   "source": [
    "import time\n",
    "\n",
    "def countdown(n: int):\n",
    "    while n > 0:\n",
    "        print(n)\n",
    "        time.sleep(1)  # wait 1 second between numbers\n",
    "        n -= 1\n",
    "    print(\"⏰ Time's up!\")"
   ]
  },
  {
   "cell_type": "code",
   "execution_count": 77,
   "id": "577589b1-2172-4ab1-98cb-aa73b5e001e7",
   "metadata": {},
   "outputs": [
    {
     "name": "stdout",
     "output_type": "stream",
     "text": [
      "10\n",
      "9\n",
      "8\n",
      "7\n",
      "6\n",
      "5\n",
      "4\n",
      "3\n",
      "2\n",
      "1\n",
      "⏰ Time's up!\n"
     ]
    }
   ],
   "source": [
    "countdown(10)"
   ]
  },
  {
   "cell_type": "markdown",
   "id": "c500d8b7-e3cc-483a-b5c9-53422f709f45",
   "metadata": {},
   "source": [
    "32. Print all elements in a nested list."
   ]
  },
  {
   "cell_type": "code",
   "execution_count": 78,
   "id": "28bada3b-3301-47bd-b6ae-3fa6ff8f4704",
   "metadata": {},
   "outputs": [],
   "source": [
    "nested_list = [[1, 2, 3], [4, 5], [6, 7, 8, 9]]"
   ]
  },
  {
   "cell_type": "code",
   "execution_count": 79,
   "id": "6b7035fb-f2eb-410f-a25b-62b833aa86da",
   "metadata": {},
   "outputs": [],
   "source": [
    "def print_nested_list(nested_list):\n",
    "    for sublist in nested_list:\n",
    "        for item in sublist:\n",
    "            print(item)"
   ]
  },
  {
   "cell_type": "code",
   "execution_count": 80,
   "id": "46c3d777-12af-46a1-9725-e84b96d9a10d",
   "metadata": {},
   "outputs": [
    {
     "name": "stdout",
     "output_type": "stream",
     "text": [
      "1\n",
      "2\n",
      "3\n",
      "4\n",
      "5\n",
      "6\n",
      "7\n",
      "8\n",
      "9\n"
     ]
    }
   ],
   "source": [
    "print_nested_list([[1, 2, 3], [4, 5], [6, 7, 8, 9]])"
   ]
  },
  {
   "cell_type": "markdown",
   "id": "05e088cd-0b41-4a5a-a9ac-e735f59b8964",
   "metadata": {},
   "source": [
    "33. Count how many times each character appears in a string."
   ]
  },
  {
   "cell_type": "code",
   "execution_count": 81,
   "id": "b2e4873e-1bed-4aaa-982d-8b863e445bc5",
   "metadata": {},
   "outputs": [],
   "source": [
    "def char_count(s: str) -> dict:\n",
    "    freq = {}\n",
    "    for char in s:\n",
    "        freq[char] = freq.get(char, 0) + 1\n",
    "    return freq"
   ]
  },
  {
   "cell_type": "code",
   "execution_count": 82,
   "id": "ec78b96d-a7bd-4202-b8df-73074db7b824",
   "metadata": {},
   "outputs": [
    {
     "name": "stdout",
     "output_type": "stream",
     "text": [
      "{'h': 1, 'e': 1, 'l': 3, 'o': 2, ' ': 1, 'w': 1, 'r': 1, 'd': 1}\n"
     ]
    }
   ],
   "source": [
    "print(char_count(\"hello world\"))"
   ]
  },
  {
   "cell_type": "markdown",
   "id": "4f1c8347-8d9f-4e31-a5c0-a2614ef63561",
   "metadata": {},
   "source": [
    "34. Use a for loop to find the largest number in a list without using max()."
   ]
  },
  {
   "cell_type": "code",
   "execution_count": 83,
   "id": "0c34f51e-4c01-422e-915d-a127508fa1b6",
   "metadata": {},
   "outputs": [],
   "source": [
    "def find_largest(lst: list) -> int:\n",
    "    if not lst:   # handle empty list\n",
    "        return None\n",
    "    \n",
    "    largest = lst[0]  # assume first element is largest\n",
    "    for num in lst[1:]:\n",
    "        if num > largest:\n",
    "            largest = num\n",
    "    return largest"
   ]
  },
  {
   "cell_type": "code",
   "execution_count": 84,
   "id": "59e68aa3-3e3c-4eb0-95e8-3243dc889720",
   "metadata": {},
   "outputs": [],
   "source": [
    "numbers = [12, 45, 7, 89, 34, 67]"
   ]
  },
  {
   "cell_type": "code",
   "execution_count": 85,
   "id": "bb5afd76-4885-4b7d-8be6-b1ed10978ed9",
   "metadata": {},
   "outputs": [
    {
     "name": "stdout",
     "output_type": "stream",
     "text": [
      "89\n"
     ]
    }
   ],
   "source": [
    "print(find_largest(numbers))"
   ]
  },
  {
   "cell_type": "markdown",
   "id": "d358d302-6749-4b60-a848-2118a6cfc5cb",
   "metadata": {},
   "source": [
    "35. Create a list of squares for numbers from 1 to 10 using a loop."
   ]
  },
  {
   "cell_type": "code",
   "execution_count": 86,
   "id": "26feea62-b079-43cc-aa1d-9ad9865774f5",
   "metadata": {},
   "outputs": [],
   "source": [
    "def squares_list():\n",
    "    squares = []\n",
    "    for i in range(1, 11):\n",
    "        squares.append(i * i)\n",
    "    return squares"
   ]
  },
  {
   "cell_type": "code",
   "execution_count": 87,
   "id": "1fc81d60-3ec0-4d30-9103-87fc9da3436f",
   "metadata": {},
   "outputs": [
    {
     "name": "stdout",
     "output_type": "stream",
     "text": [
      "[1, 4, 9, 16, 25, 36, 49, 64, 81, 100]\n"
     ]
    }
   ],
   "source": [
    "print(squares_list())"
   ]
  },
  {
   "cell_type": "markdown",
   "id": "3e7b413c-32cd-49c1-a6bb-160ad0d88003",
   "metadata": {},
   "source": [
    "36. Create a function that will generate powerball and mega million random picks for the day"
   ]
  },
  {
   "cell_type": "code",
   "execution_count": 25,
   "id": "21f31741-d11f-4245-95ba-5f5b34ff6887",
   "metadata": {},
   "outputs": [],
   "source": [
    "import random\n",
    "\n",
    "def powerball_combination():\n",
    "    # Pick 5 unique white balls between 1 and 69\n",
    "    white_balls = random.sample(range(1, 70), 5)\n",
    "    white_balls.sort()  # Optional: sort for readability\n",
    "\n",
    "    # Pick 1 Mega Ball between 1 and 26\n",
    "    mega_ball = random.randint(1, 26)\n",
    "\n",
    "    return white_balls, mega_ball\n"
   ]
  },
  {
   "cell_type": "code",
   "execution_count": 31,
   "id": "9882567b-31a6-4809-8af9-4e57900b5ee2",
   "metadata": {},
   "outputs": [
    {
     "name": "stdout",
     "output_type": "stream",
     "text": [
      "White Balls: [12, 13, 30, 49, 60] | Mega Ball: 23\n"
     ]
    }
   ],
   "source": [
    "wb, mb = powerball_combination()\n",
    "print(\"White Balls:\", wb, \"| Mega Ball:\", mb)\n",
    "\n"
   ]
  },
  {
   "cell_type": "code",
   "execution_count": 29,
   "id": "5a7c25e3-5dd3-4e99-a5a0-0ffcc03051dc",
   "metadata": {},
   "outputs": [],
   "source": [
    "import random\n",
    "\n",
    "def mega_millions_combination():\n",
    "    # Pick 5 unique white balls between 1 and 70\n",
    "    white_balls = random.sample(range(1, 71), 5)\n",
    "    white_balls.sort()  # Optional: sorted for readability\n",
    "\n",
    "    # Pick 1 Mega Ball between 1 and 25\n",
    "    mega_ball = random.randint(1, 25)\n",
    "\n",
    "    return white_balls, mega_ball\n",
    "\n"
   ]
  },
  {
   "cell_type": "code",
   "execution_count": 30,
   "id": "d873095a-07ab-4abc-a870-42015721509d",
   "metadata": {},
   "outputs": [
    {
     "name": "stdout",
     "output_type": "stream",
     "text": [
      "White Balls: [13, 31, 47, 53, 58] | Mega Ball: 5\n"
     ]
    }
   ],
   "source": [
    "wb, mb = mega_millions_combination()\n",
    "print(\"White Balls:\", wb, \"| Mega Ball:\", mb)\n"
   ]
  },
  {
   "cell_type": "markdown",
   "id": "c6c446af-13a0-4f6c-8a4e-2a47ea19c9d4",
   "metadata": {},
   "source": [
    "36. Combined Powerball and Mega Million function"
   ]
  },
  {
   "cell_type": "code",
   "execution_count": 32,
   "id": "1c38e0bc-b0bf-432f-81a0-0a92d2b5e64c",
   "metadata": {},
   "outputs": [],
   "source": [
    "import random\n",
    "\n",
    "def lottery_combination(game=\"powerball\"):\n",
    "    if game.lower() == \"powerball\":\n",
    "        # Powerball: 5 white balls (1–69), 1 red ball (1–26)\n",
    "        white_balls = random.sample(range(1, 70), 5)\n",
    "        white_balls.sort()\n",
    "        special_ball = random.randint(1, 26)\n",
    "        return white_balls, special_ball\n",
    "\n",
    "    elif game.lower() == \"megamillions\":\n",
    "        # Mega Millions: 5 white balls (1–70), 1 gold ball (1–25)\n",
    "        white_balls = random.sample(range(1, 71), 5)\n",
    "        white_balls.sort()\n",
    "        special_ball = random.randint(1, 25)\n",
    "        return white_balls, special_ball\n",
    "\n",
    "    else:\n",
    "        raise ValueError(\"Game must be 'powerball' or 'megamillions'\")\n",
    "\n"
   ]
  },
  {
   "cell_type": "code",
   "execution_count": 33,
   "id": "5a4b8111-4d07-48fd-a7f7-323cfb9fc5a0",
   "metadata": {},
   "outputs": [
    {
     "name": "stdout",
     "output_type": "stream",
     "text": [
      "🎱 Powerball -> White Balls: [4, 20, 23, 58, 63] | Powerball: 6\n",
      "💰 Mega Millions -> White Balls: [8, 28, 30, 65, 67] | Mega Ball: 21\n"
     ]
    }
   ],
   "source": [
    "\n",
    "# Example usage\n",
    "pb_wb, pb_mb = lottery_combination(\"powerball\")\n",
    "print(\"🎱 Powerball -> White Balls:\", pb_wb, \"| Powerball:\", pb_mb)\n",
    "\n",
    "mm_wb, mm_mb = lottery_combination(\"megamillions\")\n",
    "print(\"💰 Mega Millions -> White Balls:\", mm_wb, \"| Mega Ball:\", mm_mb)"
   ]
  },
  {
   "cell_type": "code",
   "execution_count": null,
   "id": "ccfee1bb-dcc7-4b82-801f-3f3ee524195d",
   "metadata": {},
   "outputs": [],
   "source": [
    "import random\n",
    "\n",
    "def powerball_combination(WhiteBallNumbers, MegaBallNumbers):\n",
    "    \"\"\"\n",
    "    Generate a Powerball combination based on provided lists.\n",
    "    \n",
    "    WhiteBallNumbers: list of available white ball numbers\n",
    "    MegaBallNumbers: list of available mega ball numbers\n",
    "    \"\"\"\n",
    "    # Pick 5 unique white balls from the given list\n",
    "    white_balls = random.sample(WhiteBallNumbers, 5)\n",
    "    white_balls.sort()  # for readability\n",
    "\n",
    "    # Pick 1 mega ball from the given list\n",
    "    mega_ball = random.choice(MegaBallNumbers)\n",
    "\n",
    "    return white_balls, mega_ball"
   ]
  },
  {
   "cell_type": "code",
   "execution_count": null,
   "id": "f58d5a11-cf3a-46d0-933a-c4e41219e3ac",
   "metadata": {},
   "outputs": [],
   "source": [
    "WhiteBallNumbers = [1, 2, 3, 6, 8, 11, 14, 16, 18, 20, 21, 24, 25, 26, 29, 31, 34, 35, 37, 39, 42, 46, 47, 50, 51, 52, 54, 55, 58, 61, 62, 63, 64, 66, 68, 69]\n",
    "MegaBallNumbers = [1, 2, 16, 22]"
   ]
  },
  {
   "cell_type": "code",
   "execution_count": null,
   "id": "a04672dd-eb9b-482e-b6d4-79aaa542b6f4",
   "metadata": {},
   "outputs": [],
   "source": [
    "for i in range(10):\n",
    "    print(powerball_combination(WhiteBallNumbers, MegaBallNumbers))"
   ]
  },
  {
   "cell_type": "raw",
   "id": "c60ccaec-9897-4854-a220-7864453cc9d5",
   "metadata": {},
   "source": []
  }
 ],
 "metadata": {
  "kernelspec": {
   "display_name": "Python [conda env:base]",
   "language": "python",
   "name": "python3"
  },
  "language_info": {
   "codemirror_mode": {
    "name": "ipython",
    "version": 3
   },
   "file_extension": ".py",
   "mimetype": "text/x-python",
   "name": "python",
   "nbconvert_exporter": "python",
   "pygments_lexer": "ipython3",
   "version": "3.13.5"
  }
 },
 "nbformat": 4,
 "nbformat_minor": 5
}
