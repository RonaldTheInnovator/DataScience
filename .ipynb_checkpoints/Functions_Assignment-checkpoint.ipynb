{
 "cells": [
  {
   "cell_type": "markdown",
   "id": "5c399547-7924-475a-ad95-e4a59c216dd0",
   "metadata": {},
   "source": [
    "1. Write a function that takes two numbers and returns their sum."
   ]
  },
  {
   "cell_type": "code",
   "execution_count": 1,
   "id": "36af2cf8-c428-4443-8883-fa6136a9108f",
   "metadata": {},
   "outputs": [],
   "source": [
    "def addittion(a,b):\n",
    "    return a + b\n",
    "    "
   ]
  },
  {
   "cell_type": "code",
   "execution_count": 2,
   "id": "712d5000-9717-492f-a013-a59544f0a8f2",
   "metadata": {},
   "outputs": [
    {
     "data": {
      "text/plain": [
       "3"
      ]
     },
     "execution_count": 2,
     "metadata": {},
     "output_type": "execute_result"
    }
   ],
   "source": [
    "addittion(1,2)"
   ]
  },
  {
   "cell_type": "markdown",
   "id": "88fa3075-690d-4e07-9012-2a59472216b7",
   "metadata": {},
   "source": [
    "2. Write a function that takes a string and returns it reversed."
   ]
  },
  {
   "cell_type": "code",
   "execution_count": 3,
   "id": "6476770b-a89e-4201-89e0-0214351eb320",
   "metadata": {},
   "outputs": [],
   "source": [
    "def reverseString(text):\n",
    "    return text[::-1]\n",
    "    "
   ]
  },
  {
   "cell_type": "code",
   "execution_count": 4,
   "id": "f306586d-2e52-4403-8b7a-fb24790feffb",
   "metadata": {},
   "outputs": [
    {
     "data": {
      "text/plain": [
       "'dlanoR'"
      ]
     },
     "execution_count": 4,
     "metadata": {},
     "output_type": "execute_result"
    }
   ],
   "source": [
    "reverseString(\"Ronald\")"
   ]
  },
  {
   "cell_type": "code",
   "execution_count": 8,
   "id": "b00777bf-bfb1-4973-83d0-7c2f7bbd055f",
   "metadata": {},
   "outputs": [],
   "source": [
    "def reverseString2(s: str) -> str:\n",
    "    return s[::-1]"
   ]
  },
  {
   "cell_type": "code",
   "execution_count": 9,
   "id": "49aa8f46-7e59-4131-b54b-f11dbea5660d",
   "metadata": {},
   "outputs": [
    {
     "data": {
      "text/plain": [
       "'RdlanoR'"
      ]
     },
     "execution_count": 9,
     "metadata": {},
     "output_type": "execute_result"
    }
   ],
   "source": [
    "reverseString2(\"RonaldR\")"
   ]
  },
  {
   "cell_type": "markdown",
   "id": "621ed2d6-f817-4cac-99f1-3ea33312f49f",
   "metadata": {},
   "source": [
    "3. Write a function that checks if a number is even or odd."
   ]
  },
  {
   "cell_type": "code",
   "execution_count": 10,
   "id": "c5f729ed-c8db-4a3d-acb6-031f433d65de",
   "metadata": {},
   "outputs": [],
   "source": [
    "def checkOddorEven(s: int) -> int:\n",
    "    if s%2 == 0:\n",
    "        return \"Even\"\n",
    "    else:\n",
    "        return \"Odd\"\n",
    "    "
   ]
  },
  {
   "cell_type": "code",
   "execution_count": 11,
   "id": "4fdfa38c-a1ea-42bc-b5e9-920e47608d8c",
   "metadata": {},
   "outputs": [
    {
     "data": {
      "text/plain": [
       "'Even'"
      ]
     },
     "execution_count": 11,
     "metadata": {},
     "output_type": "execute_result"
    }
   ],
   "source": [
    "checkOddorEven(2)"
   ]
  },
  {
   "cell_type": "code",
   "execution_count": null,
   "id": "a8f57488-3b46-48a2-a582-bdd32d431d2b",
   "metadata": {},
   "outputs": [],
   "source": []
  }
 ],
 "metadata": {
  "kernelspec": {
   "display_name": "Python [conda env:base]",
   "language": "python",
   "name": "python3"
  },
  "language_info": {
   "codemirror_mode": {
    "name": "ipython",
    "version": 3
   },
   "file_extension": ".py",
   "mimetype": "text/x-python",
   "name": "python",
   "nbconvert_exporter": "python",
   "pygments_lexer": "ipython3",
   "version": "3.13.5"
  }
 },
 "nbformat": 4,
 "nbformat_minor": 5
}
