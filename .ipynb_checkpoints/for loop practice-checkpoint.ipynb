{
 "cells": [
  {
   "cell_type": "code",
   "execution_count": 1,
   "id": "f2bba10b-2155-4581-a1e5-2878cf8f443e",
   "metadata": {},
   "outputs": [],
   "source": [
    "s = 'Ronald'"
   ]
  },
  {
   "cell_type": "code",
   "execution_count": 2,
   "id": "f2049c87-8207-40f8-80e6-e0393c80b3e9",
   "metadata": {},
   "outputs": [
    {
     "name": "stdout",
     "output_type": "stream",
     "text": [
      "R\n",
      "o\n",
      "n\n",
      "a\n",
      "l\n",
      "d\n"
     ]
    }
   ],
   "source": [
    "for i in s:\n",
    "    print(i)"
   ]
  },
  {
   "cell_type": "code",
   "execution_count": 3,
   "id": "4bb9b410-7f89-42f0-a25e-91354f80a5dc",
   "metadata": {},
   "outputs": [
    {
     "name": "stdout",
     "output_type": "stream",
     "text": [
      "R\n",
      "o\n",
      "n\n"
     ]
    }
   ],
   "source": [
    "for i in s:\n",
    "    if i == 'a':\n",
    "        break\n",
    "    print(i)"
   ]
  },
  {
   "cell_type": "code",
   "execution_count": 4,
   "id": "783ec08d-0108-453e-a7b2-bcd33ddd6c5a",
   "metadata": {},
   "outputs": [],
   "source": [
    "s2 = [1,2,3,4,5]"
   ]
  },
  {
   "cell_type": "code",
   "execution_count": 5,
   "id": "6762ae67-2879-49a9-9c8d-602376be43ca",
   "metadata": {},
   "outputs": [
    {
     "name": "stdout",
     "output_type": "stream",
     "text": [
      "1\n",
      "2\n",
      "3\n",
      "4\n",
      "5\n"
     ]
    }
   ],
   "source": [
    "for i in s2:\n",
    "    print(i)"
   ]
  },
  {
   "cell_type": "code",
   "execution_count": 7,
   "id": "db663828-f1ec-49ca-aa7b-3ce16042d840",
   "metadata": {},
   "outputs": [],
   "source": [
    "s2.append(\"Ronald\")"
   ]
  },
  {
   "cell_type": "code",
   "execution_count": 8,
   "id": "09e02f9a-57ff-42fb-82fb-04501b37e1fd",
   "metadata": {},
   "outputs": [],
   "source": [
    "s2.append(True)"
   ]
  },
  {
   "cell_type": "code",
   "execution_count": 9,
   "id": "6c922187-192d-434d-b332-607cc7d578a4",
   "metadata": {},
   "outputs": [],
   "source": [
    "s2.append(456)"
   ]
  },
  {
   "cell_type": "code",
   "execution_count": 10,
   "id": "32de8d54-d198-431d-801b-704d0bbb33d2",
   "metadata": {},
   "outputs": [
    {
     "data": {
      "text/plain": [
       "[1, 2, 3, 4, 5, 'Ronald', True, 456]"
      ]
     },
     "execution_count": 10,
     "metadata": {},
     "output_type": "execute_result"
    }
   ],
   "source": [
    "s2"
   ]
  },
  {
   "cell_type": "code",
   "execution_count": 21,
   "id": "aeab07a7-f49c-403a-b73e-c1bfc6971410",
   "metadata": {},
   "outputs": [
    {
     "name": "stdout",
     "output_type": "stream",
     "text": [
      "1\n",
      "2\n",
      "3\n",
      "4\n",
      "5\n",
      "456\n"
     ]
    }
   ],
   "source": [
    "for i in s2:\n",
    "    if type(i) == int:\n",
    "       print(i)"
   ]
  },
  {
   "cell_type": "code",
   "execution_count": 22,
   "id": "e713842b-19c1-4dfd-8aa6-6da02b1161f4",
   "metadata": {},
   "outputs": [
    {
     "name": "stdout",
     "output_type": "stream",
     "text": [
      "Ronald\n"
     ]
    }
   ],
   "source": [
    "for i in s2:\n",
    "    if type(i) == str:\n",
    "       print(i)"
   ]
  },
  {
   "cell_type": "code",
   "execution_count": 23,
   "id": "e92436fb-8d5d-4c15-b906-e1eacb71e514",
   "metadata": {},
   "outputs": [
    {
     "name": "stdout",
     "output_type": "stream",
     "text": [
      "True\n"
     ]
    }
   ],
   "source": [
    "for i in s2:\n",
    "    if type(i) == bool:\n",
    "       print(i)"
   ]
  },
  {
   "cell_type": "code",
   "execution_count": 24,
   "id": "dc9b158c-84b7-4ef7-8d50-54a4c61624d5",
   "metadata": {},
   "outputs": [],
   "source": [
    "s2.append(23.5)"
   ]
  },
  {
   "cell_type": "code",
   "execution_count": 36,
   "id": "38012577-c73d-4418-a6a4-1ca5086044ed",
   "metadata": {},
   "outputs": [
    {
     "name": "stdout",
     "output_type": "stream",
     "text": [
      "True\n",
      "23.5\n"
     ]
    }
   ],
   "source": [
    "for i in s2:\n",
    "    if type(i) == bool or type(i) == float:\n",
    "        print(i)"
   ]
  },
  {
   "cell_type": "code",
   "execution_count": 31,
   "id": "ec42b2ae-e363-4206-90e2-c694d085d51b",
   "metadata": {},
   "outputs": [
    {
     "name": "stdout",
     "output_type": "stream",
     "text": [
      "1\n",
      "2\n",
      "3\n",
      "4\n",
      "5\n",
      "Ronald\n",
      "True\n",
      "456\n",
      "23.5\n",
      "Netya\n"
     ]
    }
   ],
   "source": [
    "for i in s2:\n",
    "    if i == \"Ronald\":\n",
    "        s2.append(\"Netya\")\n",
    "    print(i)"
   ]
  },
  {
   "cell_type": "code",
   "execution_count": 37,
   "id": "6cc7226f-5362-42dd-875e-a889f7f63fa3",
   "metadata": {},
   "outputs": [],
   "source": [
    "t = (4, 5,6,7,8,\"ronald\")"
   ]
  },
  {
   "cell_type": "code",
   "execution_count": 38,
   "id": "5942c911-94b4-4abd-99fe-16afc27c3239",
   "metadata": {},
   "outputs": [
    {
     "name": "stdout",
     "output_type": "stream",
     "text": [
      "4\n",
      "5\n",
      "6\n",
      "7\n",
      "8\n",
      "ronald\n"
     ]
    }
   ],
   "source": [
    "for i in t:\n",
    "    print(i)"
   ]
  },
  {
   "cell_type": "code",
   "execution_count": 40,
   "id": "361476d4-bb24-47d2-b220-9a9287c17e0e",
   "metadata": {},
   "outputs": [
    {
     "data": {
      "text/plain": [
       "5"
      ]
     },
     "execution_count": 40,
     "metadata": {},
     "output_type": "execute_result"
    }
   ],
   "source": [
    "t[1]"
   ]
  },
  {
   "cell_type": "code",
   "execution_count": 41,
   "id": "c4473678-1148-4c18-a87d-4ce50e279776",
   "metadata": {},
   "outputs": [
    {
     "name": "stdout",
     "output_type": "stream",
     "text": [
      "ronald\n"
     ]
    }
   ],
   "source": [
    "for i in t:\n",
    "    if type(i) == str:\n",
    "        print(i)"
   ]
  },
  {
   "cell_type": "code",
   "execution_count": 42,
   "id": "4062ba48-b3ae-4045-ba2e-5fb6e49033cc",
   "metadata": {},
   "outputs": [],
   "source": [
    "b = {4,5,6,7,4,65,7,4,64,7,\"Ronald\"}"
   ]
  },
  {
   "cell_type": "code",
   "execution_count": 43,
   "id": "8d8f5110-3293-4450-b86e-405cfdf9602a",
   "metadata": {},
   "outputs": [
    {
     "data": {
      "text/plain": [
       "set"
      ]
     },
     "execution_count": 43,
     "metadata": {},
     "output_type": "execute_result"
    }
   ],
   "source": [
    "type(b)"
   ]
  },
  {
   "cell_type": "code",
   "execution_count": 44,
   "id": "90311c86-4a16-4981-991f-141120dcc598",
   "metadata": {},
   "outputs": [
    {
     "data": {
      "text/plain": [
       "{4, 5, 6, 64, 65, 7, 'Ronald'}"
      ]
     },
     "execution_count": 44,
     "metadata": {},
     "output_type": "execute_result"
    }
   ],
   "source": [
    "b"
   ]
  },
  {
   "cell_type": "code",
   "execution_count": 45,
   "id": "671a12f0-b4b5-4cfc-879f-dfcbcb0e85d5",
   "metadata": {},
   "outputs": [
    {
     "name": "stdout",
     "output_type": "stream",
     "text": [
      "64\n",
      "65\n",
      "Ronald\n",
      "4\n",
      "5\n",
      "6\n",
      "7\n"
     ]
    }
   ],
   "source": [
    "for i in b:\n",
    "    print(i)"
   ]
  },
  {
   "cell_type": "code",
   "execution_count": 46,
   "id": "f594f969-8374-47e7-85e1-ac991e5fadc9",
   "metadata": {},
   "outputs": [
    {
     "name": "stdout",
     "output_type": "stream",
     "text": [
      "64\n",
      "65\n",
      "Ronald\n",
      "4\n",
      "5\n"
     ]
    }
   ],
   "source": [
    "for i in b:\n",
    "    if i == 6:\n",
    "        break\n",
    "    print(i)"
   ]
  },
  {
   "cell_type": "code",
   "execution_count": 47,
   "id": "ab99367b-101b-49dd-94c5-3060e792728e",
   "metadata": {},
   "outputs": [],
   "source": [
    "d = {'key1' : \"amend\", 'contact':\"abc@\",'position': \"xyz\" }"
   ]
  },
  {
   "cell_type": "code",
   "execution_count": 48,
   "id": "3c3a8ea0-61b2-4552-b79b-deebceb713a7",
   "metadata": {},
   "outputs": [
    {
     "data": {
      "text/plain": [
       "dict"
      ]
     },
     "execution_count": 48,
     "metadata": {},
     "output_type": "execute_result"
    }
   ],
   "source": [
    "type(d)"
   ]
  },
  {
   "cell_type": "code",
   "execution_count": 49,
   "id": "f5e40de9-06a7-4579-9dce-ae7294402599",
   "metadata": {},
   "outputs": [
    {
     "data": {
      "text/plain": [
       "dict_keys(['key1', 'contact', 'position'])"
      ]
     },
     "execution_count": 49,
     "metadata": {},
     "output_type": "execute_result"
    }
   ],
   "source": [
    "d.keys()"
   ]
  },
  {
   "cell_type": "code",
   "execution_count": 50,
   "id": "7560701b-e350-40e8-98c7-910b1513a069",
   "metadata": {},
   "outputs": [
    {
     "data": {
      "text/plain": [
       "dict_values(['amend', 'abc@', 'xyz'])"
      ]
     },
     "execution_count": 50,
     "metadata": {},
     "output_type": "execute_result"
    }
   ],
   "source": [
    "d.values()"
   ]
  },
  {
   "cell_type": "code",
   "execution_count": 51,
   "id": "fb0fee23-a7fc-476a-b0bf-916f0fd2041c",
   "metadata": {},
   "outputs": [
    {
     "data": {
      "text/plain": [
       "dict_items([('key1', 'amend'), ('contact', 'abc@'), ('position', 'xyz')])"
      ]
     },
     "execution_count": 51,
     "metadata": {},
     "output_type": "execute_result"
    }
   ],
   "source": [
    "d.items()"
   ]
  },
  {
   "cell_type": "code",
   "execution_count": 54,
   "id": "afad2ee2-a478-499f-a633-348d0defe0ab",
   "metadata": {},
   "outputs": [
    {
     "name": "stdout",
     "output_type": "stream",
     "text": [
      "key1\n",
      "contact\n",
      "position\n"
     ]
    }
   ],
   "source": [
    "for i in d:\n",
    "    print(i)"
   ]
  },
  {
   "cell_type": "code",
   "execution_count": 55,
   "id": "969b8d69-54ad-44b4-95e6-b2259baff3ec",
   "metadata": {},
   "outputs": [
    {
     "name": "stdout",
     "output_type": "stream",
     "text": [
      "amend\n",
      "abc@\n",
      "xyz\n"
     ]
    }
   ],
   "source": [
    "for i in d:\n",
    "    print(d[i])"
   ]
  },
  {
   "cell_type": "code",
   "execution_count": 56,
   "id": "12777772-5910-4ff1-a25c-6137d3814afc",
   "metadata": {},
   "outputs": [
    {
     "name": "stdout",
     "output_type": "stream",
     "text": [
      "key1 : amend\n",
      "contact : abc@\n",
      "position : xyz\n"
     ]
    }
   ],
   "source": [
    "for i in d:\n",
    "    print(i, \":\" , d[i])"
   ]
  },
  {
   "cell_type": "code",
   "execution_count": 57,
   "id": "dc799881-946f-4962-89eb-bc69451477c7",
   "metadata": {},
   "outputs": [],
   "source": [
    "d2 = { ';name' : \"Ronald\", 123 : \"Netya\", \"course\" : [\"python\", \"ML\", \"DL\", \"NLP\"] }"
   ]
  },
  {
   "cell_type": "code",
   "execution_count": 59,
   "id": "123bb65f-9ee5-4340-9eab-902431d7b6a4",
   "metadata": {},
   "outputs": [
    {
     "data": {
      "text/plain": [
       "{';name': 'Ronald', 123: 'Netya', 'course': ['python', 'ML', 'DL', 'NLP']}"
      ]
     },
     "execution_count": 59,
     "metadata": {},
     "output_type": "execute_result"
    }
   ],
   "source": [
    "d2"
   ]
  },
  {
   "cell_type": "code",
   "execution_count": 60,
   "id": "07606d6a-53db-414a-8b90-5e10a683121f",
   "metadata": {},
   "outputs": [
    {
     "name": "stdout",
     "output_type": "stream",
     "text": [
      ";name : Ronald\n",
      "123 : Netya\n",
      "course : ['python', 'ML', 'DL', 'NLP']\n"
     ]
    }
   ],
   "source": [
    "for i in d2:\n",
    "    print(i, \":\" , d2[i])"
   ]
  },
  {
   "cell_type": "code",
   "execution_count": 62,
   "id": "754eeef7-585c-41d3-8174-a4c3d8c0f27b",
   "metadata": {},
   "outputs": [
    {
     "name": "stdout",
     "output_type": "stream",
     "text": [
      "['python', 'ML', 'DL', 'NLP']\n"
     ]
    }
   ],
   "source": [
    "for i in d2:\n",
    "    if type(d2[i]) == list:\n",
    "        print(d2[i])"
   ]
  },
  {
   "cell_type": "code",
   "execution_count": 63,
   "id": "59099ecb-5a72-47ce-a62d-489003a59240",
   "metadata": {},
   "outputs": [
    {
     "name": "stdout",
     "output_type": "stream",
     "text": [
      "['python', 'ML', 'DL', 'NLP']\n"
     ]
    }
   ],
   "source": [
    "for i in d2.values():\n",
    "    if type(i) == list:\n",
    "        print(i)"
   ]
  },
  {
   "cell_type": "code",
   "execution_count": 64,
   "id": "98aaa74f-480a-4e86-a178-485123e76d59",
   "metadata": {},
   "outputs": [
    {
     "data": {
      "text/plain": [
       "range(0, 9)"
      ]
     },
     "execution_count": 64,
     "metadata": {},
     "output_type": "execute_result"
    }
   ],
   "source": [
    "range(9)"
   ]
  },
  {
   "cell_type": "code",
   "execution_count": 68,
   "id": "8fcb360b-ef43-4c8c-bd64-18df87b8b986",
   "metadata": {},
   "outputs": [
    {
     "data": {
      "text/plain": [
       "[0, 1, 2, 3, 4, 5, 6, 7, 8]"
      ]
     },
     "execution_count": 68,
     "metadata": {},
     "output_type": "execute_result"
    }
   ],
   "source": [
    "list(range(9))"
   ]
  },
  {
   "cell_type": "code",
   "execution_count": 67,
   "id": "74f4dd27-27bf-4a76-87c6-92082b3b0a03",
   "metadata": {},
   "outputs": [
    {
     "name": "stdout",
     "output_type": "stream",
     "text": [
      "0\n",
      "1\n",
      "2\n",
      "3\n",
      "4\n"
     ]
    }
   ],
   "source": [
    "for i in range(10):\n",
    "    if i == 5:\n",
    "        break\n",
    "    print(i)"
   ]
  },
  {
   "cell_type": "code",
   "execution_count": 70,
   "id": "f0d4bcb0-7c00-462e-aaf0-a9c37f0a72d6",
   "metadata": {},
   "outputs": [
    {
     "data": {
      "text/plain": [
       "[0, 2, 4, 6, 8]"
      ]
     },
     "execution_count": 70,
     "metadata": {},
     "output_type": "execute_result"
    }
   ],
   "source": [
    "list(range(0,9,2))"
   ]
  },
  {
   "cell_type": "code",
   "execution_count": 71,
   "id": "c1ee9f44-43db-46d0-8610-95b524b4616c",
   "metadata": {},
   "outputs": [
    {
     "data": {
      "text/plain": [
       "[0, 1, 2, 3, 4, 5, 6, 7, 8]"
      ]
     },
     "execution_count": 71,
     "metadata": {},
     "output_type": "execute_result"
    }
   ],
   "source": [
    "list(range(0,9))"
   ]
  },
  {
   "cell_type": "code",
   "execution_count": 72,
   "id": "d38f1c30-2957-4937-8f14-173f17960de7",
   "metadata": {},
   "outputs": [
    {
     "data": {
      "text/plain": [
       "[]"
      ]
     },
     "execution_count": 72,
     "metadata": {},
     "output_type": "execute_result"
    }
   ],
   "source": [
    "list(range(0,9,-1))"
   ]
  },
  {
   "cell_type": "code",
   "execution_count": 74,
   "id": "23954408-468e-49f6-a27e-1576309b9817",
   "metadata": {},
   "outputs": [
    {
     "data": {
      "text/plain": [
       "[9, 8, 7, 6, 5, 4, 3, 2, 1]"
      ]
     },
     "execution_count": 74,
     "metadata": {},
     "output_type": "execute_result"
    }
   ],
   "source": [
    "list(range(9,0, -1))"
   ]
  },
  {
   "cell_type": "code",
   "execution_count": 75,
   "id": "2b16b720-11a7-4cba-8b50-80c28d9fbb39",
   "metadata": {},
   "outputs": [],
   "source": [
    "l1 = []"
   ]
  },
  {
   "cell_type": "code",
   "execution_count": 78,
   "id": "bb19c6f4-8e37-4294-b4be-69c17488e691",
   "metadata": {},
   "outputs": [
    {
     "data": {
      "text/plain": [
       "{4, 5, 6, 64, 65, 7, 'Ronald'}"
      ]
     },
     "execution_count": 78,
     "metadata": {},
     "output_type": "execute_result"
    }
   ],
   "source": [
    "b"
   ]
  },
  {
   "cell_type": "code",
   "execution_count": 79,
   "id": "3aa5d4bc-32f4-4057-a385-f794eb38ffff",
   "metadata": {},
   "outputs": [],
   "source": [
    "l = []"
   ]
  },
  {
   "cell_type": "code",
   "execution_count": 84,
   "id": "a7e610dd-8283-4acf-a253-70199896f500",
   "metadata": {},
   "outputs": [],
   "source": [
    "for i in b:\n",
    "    if type(i) == int:\n",
    "        l.append(i)\n",
    "    "
   ]
  },
  {
   "cell_type": "code",
   "execution_count": 85,
   "id": "80ffd038-a869-427a-8d85-c9f7414effbf",
   "metadata": {},
   "outputs": [
    {
     "data": {
      "text/plain": [
       "[64, 65, 4, 5, 6, 7, 64, 65, 4, 5, 6, 7, 64, 65, 4, 5, 6, 7]"
      ]
     },
     "execution_count": 85,
     "metadata": {},
     "output_type": "execute_result"
    }
   ],
   "source": [
    "l"
   ]
  },
  {
   "cell_type": "code",
   "execution_count": 1,
   "id": "27095099-992f-4402-8fd1-79c39e78fa01",
   "metadata": {},
   "outputs": [
    {
     "data": {
      "text/plain": [
       "'tips coding python for beginners'"
      ]
     },
     "execution_count": 1,
     "metadata": {},
     "output_type": "execute_result"
    }
   ],
   "source": [
    "set = { \"python\", \"coding\", \"tips\", \"for\", \"beginners\"}\n",
    "\n",
    "' '.join(set)"
   ]
  },
  {
   "cell_type": "code",
   "execution_count": 2,
   "id": "935602a0-fb2e-45d5-938e-8ced1b1abad0",
   "metadata": {},
   "outputs": [
    {
     "name": "stdout",
     "output_type": "stream",
     "text": [
      "('python', 'coding', 'tips', 'for', 'beginners')\n"
     ]
    },
    {
     "data": {
      "text/plain": [
       "'python coding tips for beginners'"
      ]
     },
     "execution_count": 2,
     "metadata": {},
     "output_type": "execute_result"
    }
   ],
   "source": [
    "tuple = (\"python\", \"coding\", \"tips\", \"for\", \"beginners\" )\n",
    "print(tuple)\n",
    "' '.join(tuple)"
   ]
  },
  {
   "cell_type": "code",
   "execution_count": 3,
   "id": "99b29dd2-06c2-4d81-a933-3aaefee1ccea",
   "metadata": {},
   "outputs": [
    {
     "name": "stdout",
     "output_type": "stream",
     "text": [
      "{'p': 'y', 't': 'h', 'o': 'n'}\n"
     ]
    }
   ],
   "source": [
    "print(dict((\"py\", \"th\",\"on\")))"
   ]
  },
  {
   "cell_type": "code",
   "execution_count": 4,
   "id": "ab345700-791c-4381-b990-e38b6c4ab368",
   "metadata": {},
   "outputs": [
    {
     "name": "stdout",
     "output_type": "stream",
     "text": [
      "{'a': '1', 'b': '2', 'c': '3'}\n"
     ]
    }
   ],
   "source": [
    "print(dict((\"a1\", \"b2\",\"c3\")))"
   ]
  },
  {
   "cell_type": "code",
   "execution_count": 5,
   "id": "99d0ea10-bba4-42bd-9387-2c4429069274",
   "metadata": {},
   "outputs": [],
   "source": [
    "f = frozenset((1,2,2,3,34,4,4,4,4))"
   ]
  },
  {
   "cell_type": "code",
   "execution_count": 6,
   "id": "6dd2d1bc-f9b6-4a62-b6da-acb65b1ba337",
   "metadata": {},
   "outputs": [
    {
     "data": {
      "text/plain": [
       "frozenset({1, 2, 3, 4, 34})"
      ]
     },
     "execution_count": 6,
     "metadata": {},
     "output_type": "execute_result"
    }
   ],
   "source": [
    "f"
   ]
  },
  {
   "cell_type": "code",
   "execution_count": 7,
   "id": "dd3b345f-40cc-49a1-b450-8f7ccac60793",
   "metadata": {},
   "outputs": [],
   "source": [
    "s ={1,2,3,4,11,11,2,3}"
   ]
  },
  {
   "cell_type": "code",
   "execution_count": 8,
   "id": "4c96ff46-7d07-428f-93b8-049c64854398",
   "metadata": {},
   "outputs": [
    {
     "data": {
      "text/plain": [
       "{1, 2, 3, 4, 11}"
      ]
     },
     "execution_count": 8,
     "metadata": {},
     "output_type": "execute_result"
    }
   ],
   "source": [
    "s"
   ]
  },
  {
   "cell_type": "code",
   "execution_count": 9,
   "id": "8a7de8d9-94ba-461e-aa3b-12099098de38",
   "metadata": {},
   "outputs": [],
   "source": [
    "s.add(3)"
   ]
  },
  {
   "cell_type": "code",
   "execution_count": 10,
   "id": "b0808b31-fa6d-4ed7-b7b1-8abaa5c89db5",
   "metadata": {},
   "outputs": [
    {
     "data": {
      "text/plain": [
       "{1, 2, 3, 4, 11}"
      ]
     },
     "execution_count": 10,
     "metadata": {},
     "output_type": "execute_result"
    }
   ],
   "source": [
    "s"
   ]
  },
  {
   "cell_type": "code",
   "execution_count": 11,
   "id": "cb18126e-7bf7-476c-bf4d-53e35ae7bb9c",
   "metadata": {},
   "outputs": [],
   "source": [
    "s.add(5)"
   ]
  },
  {
   "cell_type": "code",
   "execution_count": 12,
   "id": "16839f63-4e26-4b9d-9b89-7d286726e0ac",
   "metadata": {},
   "outputs": [
    {
     "data": {
      "text/plain": [
       "{1, 2, 3, 4, 5, 11}"
      ]
     },
     "execution_count": 12,
     "metadata": {},
     "output_type": "execute_result"
    }
   ],
   "source": [
    "s"
   ]
  },
  {
   "cell_type": "code",
   "execution_count": 16,
   "id": "aebf2fca-26f4-4d3d-ba1e-b5db539a9010",
   "metadata": {},
   "outputs": [
    {
     "name": "stdin",
     "output_type": "stream",
     "text": [
      "Type 1 for monthly calendar or Type 2 for yearly calendar 1\n",
      "Enter the Year:  1984\n",
      "Enter the month number :  11\n"
     ]
    },
    {
     "name": "stdout",
     "output_type": "stream",
     "text": [
      "   November 1984\n",
      "Mo Tu We Th Fr Sa Su\n",
      "          1  2  3  4\n",
      " 5  6  7  8  9 10 11\n",
      "12 13 14 15 16 17 18\n",
      "19 20 21 22 23 24 25\n",
      "26 27 28 29 30\n",
      "\n"
     ]
    }
   ],
   "source": [
    "import calendar\n",
    "n= int(input('Type 1 for monthly calendar or Type 2 for yearly calendar'))\n",
    "\n",
    "if n ==1:\n",
    "    yy=int(input('Enter the Year: '))\n",
    "    mm=int(input('Enter the month number : '))\n",
    "    print(calendar.month(yy,mm))\n",
    "elif n ==2:\n",
    "    yy=int(input('Enter the Year: '))\n",
    "    for m in range(1,13):\n",
    "        print(calendar.month(yy,m))"
   ]
  },
  {
   "cell_type": "code",
   "execution_count": null,
   "id": "97f8aae9-9242-444c-b140-db160f8c5dbf",
   "metadata": {},
   "outputs": [],
   "source": []
  }
 ],
 "metadata": {
  "kernelspec": {
   "display_name": "Python [conda env:base]",
   "language": "python",
   "name": "python3"
  },
  "language_info": {
   "codemirror_mode": {
    "name": "ipython",
    "version": 3
   },
   "file_extension": ".py",
   "mimetype": "text/x-python",
   "name": "python",
   "nbconvert_exporter": "python",
   "pygments_lexer": "ipython3",
   "version": "3.13.5"
  }
 },
 "nbformat": 4,
 "nbformat_minor": 5
}
