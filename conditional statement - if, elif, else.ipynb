{
 "cells": [
  {
   "cell_type": "code",
   "execution_count": 3,
   "id": "49f07e2c-3e0e-4fd7-8cc9-e7f0761f2f57",
   "metadata": {},
   "outputs": [],
   "source": [
    "a = 10\n",
    "if a == 11:\n",
    "    print(\"this is my first condition\")"
   ]
  },
  {
   "cell_type": "code",
   "execution_count": 4,
   "id": "0d55f868-fed9-44d4-9edd-1bcca4aa568b",
   "metadata": {},
   "outputs": [
    {
     "name": "stdout",
     "output_type": "stream",
     "text": [
      "my condition is true\n"
     ]
    }
   ],
   "source": [
    "a = 10\n",
    "if a == 10:\n",
    "    print(\"my condition is true\")"
   ]
  },
  {
   "cell_type": "code",
   "execution_count": 5,
   "id": "79d2ad4c-cbfb-4844-9cff-edea13f939d5",
   "metadata": {},
   "outputs": [
    {
     "name": "stdout",
     "output_type": "stream",
     "text": [
      "print this if condition is true\n"
     ]
    }
   ],
   "source": [
    "a = 10\n",
    "if a  > 8:\n",
    "    print(\"print this if condition is true\")"
   ]
  },
  {
   "cell_type": "code",
   "execution_count": 6,
   "id": "044d1698-95ec-4fa3-9fab-f2b6c76e4781",
   "metadata": {},
   "outputs": [],
   "source": [
    "a = 10 \n",
    "if a > 5:\n",
    "    pass"
   ]
  },
  {
   "cell_type": "code",
   "execution_count": 7,
   "id": "74514565-75dd-4fa7-a6f9-bba7d1e3548a",
   "metadata": {},
   "outputs": [
    {
     "name": "stdout",
     "output_type": "stream",
     "text": [
      "my condition is true here\n"
     ]
    }
   ],
   "source": [
    "a = 11\n",
    "if a == 11:\n",
    "    print(\"my condition is true here\")\n",
    "else :\n",
    "    print(\"print this \")"
   ]
  },
  {
   "cell_type": "code",
   "execution_count": 9,
   "id": "9b16569d-9353-4819-b6e6-0df3265b6a4c",
   "metadata": {},
   "outputs": [
    {
     "name": "stdout",
     "output_type": "stream",
     "text": [
      "we are trying to compare 10 with 11\n"
     ]
    }
   ],
   "source": [
    "a = 10\n",
    "if a == 12:\n",
    "    print(\"here we are trying to compare 10 and 12\")\n",
    "elif a == 10:\n",
    "    print(\"we are trying to compare 10 with 11\")\n",
    "else :\n",
    "    print(\"if all the blocks will fail then do this\")"
   ]
  },
  {
   "cell_type": "code",
   "execution_count": null,
   "id": "aee5c42c-f700-4c0c-ba82-bd71b58d0089",
   "metadata": {},
   "outputs": [],
   "source": [
    "price = 1000\n",
    "if price > 500:\n",
    "    print(\"may be I wont be able to buy a jacket\")\n",
    "elif price < 500:\n",
    "    print(\"I will be able to buy a jacket\")\n",
    "elif price == 500:\n",
    "    print (\"for sure I will be able to buy a jacket\")\n",
    "else:\n",
    "    print(\"Test\")"
   ]
  },
  {
   "cell_type": "code",
   "execution_count": 10,
   "id": "2d3d7ab8-f37f-4570-ae3e-c6c36559211a",
   "metadata": {},
   "outputs": [
    {
     "name": "stdin",
     "output_type": "stream",
     "text": [
      " f\n"
     ]
    },
    {
     "data": {
      "text/plain": [
       "'f'"
      ]
     },
     "execution_count": 10,
     "metadata": {},
     "output_type": "execute_result"
    }
   ],
   "source": [
    "input()"
   ]
  },
  {
   "cell_type": "code",
   "execution_count": 12,
   "id": "0df005c5-ec43-40c8-9822-b0b37be8cd3a",
   "metadata": {},
   "outputs": [
    {
     "name": "stdin",
     "output_type": "stream",
     "text": [
      "Please enter the value of a 1\n"
     ]
    }
   ],
   "source": [
    "a = int(input(\"Please enter the value of a\"))"
   ]
  },
  {
   "cell_type": "code",
   "execution_count": 16,
   "id": "fc1e4653-094d-42dc-91be-bebb0bfad045",
   "metadata": {},
   "outputs": [
    {
     "name": "stdin",
     "output_type": "stream",
     "text": [
      "Enter lucky number :  1001\n"
     ]
    }
   ],
   "source": [
    "user_question = int(input(\"Enter lucky number : \"))"
   ]
  },
  {
   "cell_type": "code",
   "execution_count": 17,
   "id": "8ee6c149-a4d6-43ba-9bcf-26226ecc21b2",
   "metadata": {},
   "outputs": [
    {
     "name": "stdout",
     "output_type": "stream",
     "text": [
      "you are not giving the number of 100\n"
     ]
    }
   ],
   "source": [
    "correct_number = 100\n",
    "if user_question == correct_number:\n",
    "    print(\"You given the number of 100\")\n",
    "else:\n",
    "    print(\"you are not giving the number of 100\")"
   ]
  },
  {
   "cell_type": "code",
   "execution_count": 18,
   "id": "bb2bff90-5023-4a62-a4b2-7e1e15f77476",
   "metadata": {},
   "outputs": [
    {
     "data": {
      "text/plain": [
       "True"
      ]
     },
     "execution_count": 18,
     "metadata": {},
     "output_type": "execute_result"
    }
   ],
   "source": [
    "l = [1,2,3,4,5,6]\n",
    "\n",
    "2 in l"
   ]
  },
  {
   "cell_type": "code",
   "execution_count": 19,
   "id": "eccb72cc-b3fc-451b-939e-450995d1fb26",
   "metadata": {},
   "outputs": [
    {
     "name": "stdout",
     "output_type": "stream",
     "text": [
      "do not perform this task\n"
     ]
    }
   ],
   "source": [
    "if 60 in l:\n",
    "    print(\"try to perform a task\")\n",
    "else:\n",
    "    print(\"do not perform this task\")"
   ]
  },
  {
   "cell_type": "code",
   "execution_count": 20,
   "id": "d4efe8aa-7b7f-4772-b3bc-42be691e5ea1",
   "metadata": {},
   "outputs": [
    {
     "ename": "SyntaxError",
     "evalue": "invalid syntax (653372337.py, line 1)",
     "output_type": "error",
     "traceback": [
      "\u001b[1;36m  Cell \u001b[1;32mIn[20], line 1\u001b[1;36m\u001b[0m\n\u001b[1;33m    whether in this list, 10 is there or not\u001b[0m\n\u001b[1;37m                    ^\u001b[0m\n\u001b[1;31mSyntaxError\u001b[0m\u001b[1;31m:\u001b[0m invalid syntax\n"
     ]
    }
   ],
   "source": [
    "whether in this list, 10 is there or not\n",
    "\n",
    "if it is there, print 10 is there in my list\n",
    "else print 10 is not there in my list"
   ]
  },
  {
   "cell_type": "code",
   "execution_count": 21,
   "id": "d079595e-5839-40e3-bea2-af4895fbfcf9",
   "metadata": {},
   "outputs": [
    {
     "name": "stdout",
     "output_type": "stream",
     "text": [
      "10 is not there in my list\n"
     ]
    }
   ],
   "source": [
    "if 10 in l:\n",
    "    print(\" 10 is in my list\")\n",
    "else :\n",
    "    print(\"10 is not there in my list\")S"
   ]
  },
  {
   "cell_type": "code",
   "execution_count": 24,
   "id": "4b7c7e9b-4967-44bf-b33b-e11d3085b5b6",
   "metadata": {},
   "outputs": [
    {
     "name": "stdout",
     "output_type": "stream",
     "text": [
      "try to do sub\n",
      "this is new statement\n"
     ]
    }
   ],
   "source": [
    "if 10 in l:\n",
    "    print(\"try to do this condition\")\n",
    "elif 2 in l :\n",
    "    print(\"try to do sub\")\n",
    "elif 3 in l :\n",
    "    print(\"try to do mul\")\n",
    "if 4 in l :\n",
    "    print(\"this is new statement\")"
   ]
  },
  {
   "cell_type": "code",
   "execution_count": 26,
   "id": "6ae1e22f-ed4f-4cb0-ad24-06ef6569d92a",
   "metadata": {},
   "outputs": [
    {
     "name": "stdin",
     "output_type": "stream",
     "text": [
      "please enter the price:  600\n"
     ]
    },
    {
     "name": "stdout",
     "output_type": "stream",
     "text": [
      "I wont be able to buy anything with this price tag\n",
      "Lets try something else\n"
     ]
    }
   ],
   "source": [
    "price = int(input(\"please enter the price: \"))\n",
    "if price < 500 :\n",
    "    print(\"I will be able to buy something\")\n",
    "    if price < 400 :\n",
    "        print(\"I will be able to buy a jacket\")\n",
    "    elif price < 300 :\n",
    "        print(\"I will be able to buy a shirt\")\n",
    "        if price < 200 :\n",
    "            print(\"I would like to do something else\")\n",
    "    else :\n",
    "        print(\"I wont be able to buy anything\")\n",
    "else:\n",
    "    print(\"I wont be able to buy anything with this price tag\")\n",
    "    if price > 500:\n",
    "        print(\"Lets try something else\")"
   ]
  },
  {
   "cell_type": "code",
   "execution_count": 28,
   "id": "13a94fe2-1aaa-4594-a0bf-e92fda7d8263",
   "metadata": {},
   "outputs": [
    {
     "name": "stdin",
     "output_type": "stream",
     "text": [
      "Please enter the marks:  400\n"
     ]
    },
    {
     "name": "stdout",
     "output_type": "stream",
     "text": [
      "NO GRE\n",
      "TOFEL\n"
     ]
    }
   ],
   "source": [
    "marks = int(input(\"Please enter the marks: \"))\n",
    "if marks < 600:\n",
    "    print(\"NO GRE\")\n",
    "    if marks < 500:\n",
    "        print(\"TOFEL\")\n",
    "        if marks < 400:\n",
    "            print(\"Try something else\")\n",
    "    else:\n",
    "        print(\"YOU GOT TOFEL\")\n",
    "else:\n",
    "    print(\"You got GRE congratulations\")"
   ]
  },
  {
   "cell_type": "code",
   "execution_count": null,
   "id": "c00fed64-d374-4b68-9c3a-1cd6b6f11076",
   "metadata": {},
   "outputs": [],
   "source": []
  }
 ],
 "metadata": {
  "kernelspec": {
   "display_name": "Python [conda env:base]",
   "language": "python",
   "name": "python3"
  },
  "language_info": {
   "codemirror_mode": {
    "name": "ipython",
    "version": 3
   },
   "file_extension": ".py",
   "mimetype": "text/x-python",
   "name": "python",
   "nbconvert_exporter": "python",
   "pygments_lexer": "ipython3",
   "version": "3.13.5"
  }
 },
 "nbformat": 4,
 "nbformat_minor": 5
}
