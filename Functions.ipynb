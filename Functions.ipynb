{
 "cells": [
  {
   "cell_type": "code",
   "execution_count": 1,
   "id": "7c4a32d3-cced-4e20-8d27-da11a8e0660b",
   "metadata": {},
   "outputs": [],
   "source": [
    "def name(n):\n",
    "    print('Welcome on board '+ n)"
   ]
  },
  {
   "cell_type": "code",
   "execution_count": 2,
   "id": "11a173b8-1288-4524-a8ff-6dfd7982dc6e",
   "metadata": {},
   "outputs": [
    {
     "name": "stdout",
     "output_type": "stream",
     "text": [
      "Welcome on board Ronald Netya\n"
     ]
    }
   ],
   "source": [
    "name('Ronald Netya')"
   ]
  },
  {
   "cell_type": "code",
   "execution_count": 3,
   "id": "1be4def4-caea-4bc9-b61d-52eb8b73e7e2",
   "metadata": {},
   "outputs": [],
   "source": [
    "square = lambda x: x*2"
   ]
  },
  {
   "cell_type": "code",
   "execution_count": 4,
   "id": "f45e4e7b-3dbc-4a0f-b48d-3e4de36ba7d4",
   "metadata": {},
   "outputs": [
    {
     "name": "stdout",
     "output_type": "stream",
     "text": [
      "8\n"
     ]
    }
   ],
   "source": [
    "print(square(4))"
   ]
  },
  {
   "cell_type": "code",
   "execution_count": null,
   "id": "93c2a80c-8392-4041-ae3a-fb5879a69d2c",
   "metadata": {},
   "outputs": [],
   "source": []
  }
 ],
 "metadata": {
  "kernelspec": {
   "display_name": "Python [conda env:base]",
   "language": "python",
   "name": "python3"
  },
  "language_info": {
   "codemirror_mode": {
    "name": "ipython",
    "version": 3
   },
   "file_extension": ".py",
   "mimetype": "text/x-python",
   "name": "python",
   "nbconvert_exporter": "python",
   "pygments_lexer": "ipython3",
   "version": "3.13.5"
  }
 },
 "nbformat": 4,
 "nbformat_minor": 5
}
