{
 "cells": [
  {
   "cell_type": "markdown",
   "id": "d8305197-b153-4a4d-998a-2f2edae3e425",
   "metadata": {},
   "source": [
    "Write a program to count how many times the letter \"e\" appears in the input string.\n",
    "🧪 Input: \"experience elevates everyone\"\n",
    "✅ Output: e occurs 6 times"
   ]
  },
  {
   "cell_type": "code",
   "execution_count": 1,
   "id": "a4adf71a-f3db-4a45-aca0-5905658dccdb",
   "metadata": {},
   "outputs": [],
   "source": [
    "s = \"experience elevates everyone\""
   ]
  },
  {
   "cell_type": "code",
   "execution_count": 3,
   "id": "52e26d4a-444d-4388-99eb-dca298cfbba0",
   "metadata": {},
   "outputs": [
    {
     "name": "stdout",
     "output_type": "stream",
     "text": [
      "e occurs 10 times\n"
     ]
    }
   ],
   "source": [
    "print( \"e occurs\",s.count(\"e\"), \"times\")"
   ]
  },
  {
   "cell_type": "markdown",
   "id": "669b81f8-9a81-4a9a-8bc6-a5e5527462aa",
   "metadata": {},
   "source": [
    "📌 Question:\n",
    "Check if the string starts with the word \"Hello\"\n",
    "🧪 Input: \"Hello, how are you?\"\n",
    "✅ Output: True"
   ]
  },
  {
   "cell_type": "code",
   "execution_count": 4,
   "id": "9040e644-379d-4191-97c7-0925917eb23b",
   "metadata": {},
   "outputs": [],
   "source": [
    "hello = \"Hello, how are you?\""
   ]
  },
  {
   "cell_type": "code",
   "execution_count": 5,
   "id": "b302fd6a-eef6-40b4-b240-d3e73db1eb9f",
   "metadata": {},
   "outputs": [
    {
     "name": "stdout",
     "output_type": "stream",
     "text": [
      "True\n"
     ]
    }
   ],
   "source": [
    "print(hello.startswith(\"Hello\"))"
   ]
  },
  {
   "cell_type": "markdown",
   "id": "4e898b93-e49d-420c-b454-69127e1214e4",
   "metadata": {},
   "source": [
    "📌 Question:\n",
    "Check if the string ends with \".com\"\n",
    "🧪 Input: \"example.com\"\n",
    "✅ Output: True\n",
    "\n",
    "🧪 Input: \"example.org\"\n",
    "✅ Output: False\n"
   ]
  },
  {
   "cell_type": "code",
   "execution_count": 6,
   "id": "e5e9c3d2-89eb-48e4-90eb-16e61dacf9b5",
   "metadata": {},
   "outputs": [],
   "source": [
    "end= \"example.com\""
   ]
  },
  {
   "cell_type": "code",
   "execution_count": 8,
   "id": "ed7dcda7-b27d-4e53-8b5f-81950dd2563b",
   "metadata": {},
   "outputs": [
    {
     "name": "stdout",
     "output_type": "stream",
     "text": [
      "True\n"
     ]
    }
   ],
   "source": [
    "print(end.endswith(\".com\"))"
   ]
  },
  {
   "cell_type": "markdown",
   "id": "42f51116-2d68-4167-882f-ae0a70da7dc2",
   "metadata": {},
   "source": [
    "📌 Question:\n",
    "Check if the input string contains only alphabetic characters\n",
    "🧪 Input: \"HelloWorld\"\n",
    "✅ Output: True\n",
    "\n",
    "🧪 Input: \"Hello123\"\n",
    "✅ Output: False\n"
   ]
  },
  {
   "cell_type": "code",
   "execution_count": 9,
   "id": "16eeb3e9-f3f9-4663-aaf4-0ee08a487a73",
   "metadata": {},
   "outputs": [],
   "source": [
    "inpt = \"HelloWorld\""
   ]
  },
  {
   "cell_type": "code",
   "execution_count": 10,
   "id": "df66ccb6-c82c-445e-9c62-97d802f19b97",
   "metadata": {},
   "outputs": [
    {
     "name": "stdout",
     "output_type": "stream",
     "text": [
      "True\n"
     ]
    }
   ],
   "source": [
    "print(inpt.isalpha())"
   ]
  },
  {
   "cell_type": "markdown",
   "id": "3a83a6b3-2b65-471c-8406-a8fbca39a242",
   "metadata": {},
   "source": [
    "📌 Question:\n",
    "Check if the input string contains only numbers\n",
    "🧪 Input: \"12345\"\n",
    "✅ Output: True\n",
    "\n",
    "🧪 Input: \"12a45\"\n",
    "✅ Output: False"
   ]
  },
  {
   "cell_type": "code",
   "execution_count": 18,
   "id": "2aadd9bf-611c-493a-bd8f-e3c93a34cb7b",
   "metadata": {},
   "outputs": [],
   "source": [
    "num = \"12445\""
   ]
  },
  {
   "cell_type": "code",
   "execution_count": 19,
   "id": "0889d424-8a64-4d0f-ac8e-7b9a5866989d",
   "metadata": {},
   "outputs": [
    {
     "name": "stdout",
     "output_type": "stream",
     "text": [
      "True\n"
     ]
    }
   ],
   "source": [
    "print(num.isdigit())"
   ]
  },
  {
   "cell_type": "markdown",
   "id": "d8280da1-edb8-4aea-9428-cdbb92b167c3",
   "metadata": {},
   "source": [
    "Question:\n",
    "How many words start with the letter 's'?\n",
    "🧪 Input: \"sun shines on sandy shores\"\n",
    "✅ Output: 4"
   ]
  },
  {
   "cell_type": "code",
   "execution_count": 20,
   "id": "fcbd63dd-d92f-489a-8d75-5f91131e7e89",
   "metadata": {},
   "outputs": [],
   "source": [
    "input2 = \"sun shines on sandy shores\""
   ]
  },
  {
   "cell_type": "code",
   "execution_count": 21,
   "id": "957f3cef-3180-4d89-956e-9a3b957a012f",
   "metadata": {},
   "outputs": [
    {
     "name": "stdout",
     "output_type": "stream",
     "text": [
      "4\n"
     ]
    }
   ],
   "source": [
    "import re\n",
    "\n",
    "def count_s_words(text: str) -> int:\n",
    "    words = re.findall(r\"[A-Za-z]+(?:[-'][A-Za-z]+)*\", text)\n",
    "    return sum(w.lower().startswith('s') for w in words)\n",
    "\n",
    "print(count_s_words(input2))"
   ]
  },
  {
   "cell_type": "markdown",
   "id": "6b1e19ec-67ac-47a1-b50c-bdb02a4b38e0",
   "metadata": {},
   "source": [
    "Question:\n",
    "Write a program that takes a string and converts it to all uppercase.\n",
    "🧪 Input: \"hello world\"\n",
    "✅ Output: \"HELLO WORLD\""
   ]
  },
  {
   "cell_type": "code",
   "execution_count": 22,
   "id": "c98be1c9-7ad4-4b99-aadd-cf5982abe824",
   "metadata": {},
   "outputs": [
    {
     "name": "stdout",
     "output_type": "stream",
     "text": [
      "SUN SHINES ON SANDY SHORES\n"
     ]
    }
   ],
   "source": [
    "print(input2.upper())"
   ]
  },
  {
   "cell_type": "markdown",
   "id": "fa97155a-f153-4931-b3c0-cc166d0a2a57",
   "metadata": {},
   "source": [
    "📌 Question:\n",
    "Convert the given sentence to lowercase.\n",
    "🧪 Input: \"Python Is FUN\"\n",
    "✅ Output: \"python is fun\""
   ]
  },
  {
   "cell_type": "code",
   "execution_count": 23,
   "id": "09261ecd-318e-4ece-9e04-6820b9fbf349",
   "metadata": {},
   "outputs": [],
   "source": [
    "input2 = \"Python Is FUN\""
   ]
  },
  {
   "cell_type": "code",
   "execution_count": 24,
   "id": "5f03bbd8-f040-4f49-af00-356feb3d89bd",
   "metadata": {},
   "outputs": [
    {
     "name": "stdout",
     "output_type": "stream",
     "text": [
      "python is fun\n"
     ]
    }
   ],
   "source": [
    "print(input2.lower())"
   ]
  },
  {
   "cell_type": "markdown",
   "id": "cb0bbf00-18ec-4007-b0e9-2fe8270e84d1",
   "metadata": {},
   "source": [
    "📌 Question:\n",
    "Check if the input string is entirely in uppercase letters.\n",
    "🧪 Input: \"WELCOME\"\n",
    "✅ Output: True"
   ]
  },
  {
   "cell_type": "code",
   "execution_count": 25,
   "id": "ef285292-3a9a-4567-854a-8b507187612d",
   "metadata": {},
   "outputs": [],
   "source": [
    "input_w = \"WELCOME\""
   ]
  },
  {
   "cell_type": "code",
   "execution_count": 26,
   "id": "4e105cc0-b0fc-4aa9-8158-d464c79b7218",
   "metadata": {},
   "outputs": [
    {
     "name": "stdout",
     "output_type": "stream",
     "text": [
      "True\n"
     ]
    }
   ],
   "source": [
    "print(input_w.isalpha())"
   ]
  },
  {
   "cell_type": "markdown",
   "id": "6c5ccb33-35ad-4b3a-8c5f-40919e600179",
   "metadata": {},
   "source": [
    "📌 Question:\n",
    "Check if the input string is entirely in lowercase letters.\n",
    "🧪 Input: \"python\"\n",
    "✅ Output: True\n",
    "\n",
    "🧪 Input: \"Python\"\n",
    "✅ Output: False\n"
   ]
  },
  {
   "cell_type": "code",
   "execution_count": 27,
   "id": "39876f8d-61ef-4127-b1d2-ce861c5f97b4",
   "metadata": {},
   "outputs": [],
   "source": [
    "input_z = \"python\""
   ]
  },
  {
   "cell_type": "code",
   "execution_count": 28,
   "id": "94c49c9a-5c32-42b2-9760-82d65f30e1f4",
   "metadata": {},
   "outputs": [
    {
     "name": "stdout",
     "output_type": "stream",
     "text": [
      "True\n"
     ]
    }
   ],
   "source": [
    "print(input_z.islower())"
   ]
  },
  {
   "cell_type": "markdown",
   "id": "7a6d2334-55e3-4e77-b1bc-00e8fe76c434",
   "metadata": {},
   "source": [
    "📌 Question:\n",
    "Capitalize only the first letter of the string.\n",
    "🧪 Input: \"hello world\"\n",
    "✅ Output: \"Hello world\""
   ]
  },
  {
   "cell_type": "code",
   "execution_count": 29,
   "id": "9f799f23-4836-40fd-b84c-b033d1bf178c",
   "metadata": {},
   "outputs": [],
   "source": [
    "input_a = \"hello world\""
   ]
  },
  {
   "cell_type": "code",
   "execution_count": 32,
   "id": "fd903f94-28ca-4572-a2cb-cb0ba899262c",
   "metadata": {},
   "outputs": [
    {
     "name": "stdout",
     "output_type": "stream",
     "text": [
      "Hello world\n"
     ]
    }
   ],
   "source": [
    "print(input_a.capitalize())"
   ]
  },
  {
   "cell_type": "code",
   "execution_count": null,
   "id": "db852383-d312-4c9f-ba2e-90c1871e30bd",
   "metadata": {},
   "outputs": [],
   "source": []
  }
 ],
 "metadata": {
  "kernelspec": {
   "display_name": "Python [conda env:base]",
   "language": "python",
   "name": "python3"
  },
  "language_info": {
   "codemirror_mode": {
    "name": "ipython",
    "version": 3
   },
   "file_extension": ".py",
   "mimetype": "text/x-python",
   "name": "python",
   "nbconvert_exporter": "python",
   "pygments_lexer": "ipython3",
   "version": "3.13.5"
  }
 },
 "nbformat": 4,
 "nbformat_minor": 5
}
