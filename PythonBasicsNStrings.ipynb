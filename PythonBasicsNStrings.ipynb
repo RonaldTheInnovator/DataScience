{
 "cells": [
  {
   "cell_type": "code",
   "execution_count": 1,
   "id": "f3022c87-ebf5-4e7d-a8f5-e130ed1ef68f",
   "metadata": {},
   "outputs": [],
   "source": [
    "s =\"DataScience\""
   ]
  },
  {
   "cell_type": "code",
   "execution_count": 2,
   "id": "78d3fc09-74fe-45b6-ac7e-80daa9154bd6",
   "metadata": {},
   "outputs": [
    {
     "name": "stdout",
     "output_type": "stream",
     "text": [
      "DataScience3\n"
     ]
    }
   ],
   "source": [
    "print(s + \"3\")"
   ]
  },
  {
   "cell_type": "code",
   "execution_count": 9,
   "id": "e357495c-11ec-46e7-adc5-9c0d7e5d3791",
   "metadata": {},
   "outputs": [
    {
     "name": "stdout",
     "output_type": "stream",
     "text": [
      "ataS\n"
     ]
    }
   ],
   "source": [
    "print(s[1:5])"
   ]
  },
  {
   "cell_type": "code",
   "execution_count": 13,
   "id": "de15732a-4b6d-4896-bdd4-d57cfdc05544",
   "metadata": {},
   "outputs": [
    {
     "name": "stdout",
     "output_type": "stream",
     "text": [
      "aa\n"
     ]
    }
   ],
   "source": [
    "print(s[1:5:2])"
   ]
  },
  {
   "cell_type": "code",
   "execution_count": 16,
   "id": "d551fb6a-e398-46ff-afd4-3da088493089",
   "metadata": {},
   "outputs": [
    {
     "name": "stdout",
     "output_type": "stream",
     "text": [
      "cSata\n"
     ]
    }
   ],
   "source": [
    "print(s[5:0:-1])"
   ]
  },
  {
   "cell_type": "code",
   "execution_count": 19,
   "id": "01f6b5c8-c940-411a-912c-5b78a16377ec",
   "metadata": {},
   "outputs": [
    {
     "name": "stdout",
     "output_type": "stream",
     "text": [
      "DtSine\n"
     ]
    }
   ],
   "source": [
    "print(s[::2])"
   ]
  },
  {
   "cell_type": "code",
   "execution_count": 21,
   "id": "ba05d5b0-9c0a-4eba-9023-9dabf99d13bf",
   "metadata": {},
   "outputs": [
    {
     "name": "stdout",
     "output_type": "stream",
     "text": [
      "eniStD\n"
     ]
    }
   ],
   "source": [
    "print(s[::-2])"
   ]
  },
  {
   "cell_type": "code",
   "execution_count": 39,
   "id": "d952960c-b4d3-474f-8f10-4d75b7114f29",
   "metadata": {},
   "outputs": [],
   "source": [
    "s2 = \"Learning datascience in ammend\""
   ]
  },
  {
   "cell_type": "code",
   "execution_count": 23,
   "id": "f17a45d3-af3a-489e-a682-faefa54a2e73",
   "metadata": {},
   "outputs": [
    {
     "name": "stdout",
     "output_type": "stream",
     "text": [
      "Learning data science in Ammend\n"
     ]
    }
   ],
   "source": [
    "print(s2)"
   ]
  },
  {
   "cell_type": "code",
   "execution_count": 29,
   "id": "9cd773ee-3936-451d-aff3-68bff3231d3f",
   "metadata": {},
   "outputs": [
    {
     "data": {
      "text/plain": [
       "'nemmA'"
      ]
     },
     "execution_count": 29,
     "metadata": {},
     "output_type": "execute_result"
    }
   ],
   "source": [
    "s2[-2:-7:-1]"
   ]
  },
  {
   "cell_type": "code",
   "execution_count": 32,
   "id": "73206d9e-ce0c-4108-be88-d414e850bb08",
   "metadata": {},
   "outputs": [
    {
     "data": {
      "text/plain": [
       "' Amme'"
      ]
     },
     "execution_count": 32,
     "metadata": {},
     "output_type": "execute_result"
    }
   ],
   "source": [
    "s2[-7:-2:1]"
   ]
  },
  {
   "cell_type": "code",
   "execution_count": 33,
   "id": "a198b921-d02a-426f-9c9d-5f602dff3eaa",
   "metadata": {},
   "outputs": [
    {
     "data": {
      "text/plain": [
       "''"
      ]
     },
     "execution_count": 33,
     "metadata": {},
     "output_type": "execute_result"
    }
   ],
   "source": [
    "s2[5:0]"
   ]
  },
  {
   "cell_type": "code",
   "execution_count": 34,
   "id": "ca51843c-02e3-4d05-b5a5-ce08d9e78b2a",
   "metadata": {},
   "outputs": [
    {
     "data": {
      "text/plain": [
       "' Ammen'"
      ]
     },
     "execution_count": 34,
     "metadata": {},
     "output_type": "execute_result"
    }
   ],
   "source": [
    "s2[-7:-1:1]"
   ]
  },
  {
   "cell_type": "code",
   "execution_count": 35,
   "id": "567c786e-5dfc-486c-a662-7fb855da69a1",
   "metadata": {},
   "outputs": [
    {
     "data": {
      "text/plain": [
       "0"
      ]
     },
     "execution_count": 35,
     "metadata": {},
     "output_type": "execute_result"
    }
   ],
   "source": [
    "s.count('sum')"
   ]
  },
  {
   "cell_type": "code",
   "execution_count": 40,
   "id": "38a53d0c-549e-482b-8b5f-83db22ec3137",
   "metadata": {},
   "outputs": [
    {
     "data": {
      "text/plain": [
       "4"
      ]
     },
     "execution_count": 40,
     "metadata": {},
     "output_type": "execute_result"
    }
   ],
   "source": [
    "s2.count('a')"
   ]
  },
  {
   "cell_type": "code",
   "execution_count": 41,
   "id": "0e2ac28d-b8fc-43a4-b00c-8acf8f4393a9",
   "metadata": {},
   "outputs": [
    {
     "data": {
      "text/plain": [
       "['Le', 'rning d', 't', 'science in ', 'mmend']"
      ]
     },
     "execution_count": 41,
     "metadata": {},
     "output_type": "execute_result"
    }
   ],
   "source": [
    "s2.split('a')"
   ]
  },
  {
   "cell_type": "code",
   "execution_count": 42,
   "id": "6cbec310-458d-4dbe-8875-df4f9a7771d5",
   "metadata": {},
   "outputs": [
    {
     "data": {
      "text/plain": [
       "['L', 'arning datasci', 'nc', ' in amm', 'nd']"
      ]
     },
     "execution_count": 42,
     "metadata": {},
     "output_type": "execute_result"
    }
   ],
   "source": [
    "s2.split('e')"
   ]
  },
  {
   "cell_type": "code",
   "execution_count": 43,
   "id": "5410e98a-145f-4eae-92ee-76aae58c7e95",
   "metadata": {},
   "outputs": [
    {
     "data": {
      "text/plain": [
       "list"
      ]
     },
     "execution_count": 43,
     "metadata": {},
     "output_type": "execute_result"
    }
   ],
   "source": [
    "type(s2.split('e'))"
   ]
  },
  {
   "cell_type": "code",
   "execution_count": 1,
   "id": "67b50c23-2895-4a14-9e01-dc71ed6bb95d",
   "metadata": {},
   "outputs": [],
   "source": [
    "python = \"\"\"\n",
    "\n",
    "Python is a high-level, general-purpose programming language. \n",
    "\n",
    "Its design philosophy emphasizes code readability with the use of significant indentation.\n",
    "\n",
    "Python is dynamically type-checked and garbage-collected\"\"\""
   ]
  },
  {
   "cell_type": "code",
   "execution_count": 2,
   "id": "00bc2098-6c66-4860-ac48-f2c59c59245e",
   "metadata": {},
   "outputs": [
    {
     "name": "stdout",
     "output_type": "stream",
     "text": [
      "\n",
      "\n",
      "Python is a high-level, general-purpose programming language. \n",
      "\n",
      "Its design philosophy emphasizes code readability with the use of significant indentation.\n",
      "\n",
      "Python is dynamically type-checked and garbage-collected\n"
     ]
    }
   ],
   "source": [
    "print(python)"
   ]
  },
  {
   "cell_type": "code",
   "execution_count": 3,
   "id": "27a7eb2b-4c8a-48bd-a573-20c5d1593a26",
   "metadata": {},
   "outputs": [
    {
     "name": "stdout",
     "output_type": "stream",
     "text": [
      "['\\n\\nPython', 'is', 'a', 'high-level,', 'general-purpose', 'programming', 'language.', '\\n\\nIts', 'design', 'philosophy', 'emphasizes', 'code', 'readability', 'with', 'the', 'use', 'of', 'significant', 'indentation.\\n\\nPython', 'is', 'dynamically', 'type-checked', 'and', 'garbage-collected']\n"
     ]
    }
   ],
   "source": [
    "print(python.split(' '))"
   ]
  },
  {
   "cell_type": "code",
   "execution_count": 4,
   "id": "803fa253-942f-4ec6-ae67-e1e6e49c647d",
   "metadata": {},
   "outputs": [
    {
     "data": {
      "text/plain": [
       "'\\n\\nPython is a high-level, general-purpose programming language. \\n\\nIts design philosophy emphasizes code readability with the use of significant indentation.\\n\\nPython is dynamically type-checked and garbage-collected'"
      ]
     },
     "execution_count": 4,
     "metadata": {},
     "output_type": "execute_result"
    }
   ],
   "source": [
    "python"
   ]
  },
  {
   "cell_type": "code",
   "execution_count": 8,
   "id": "6483368f-72ab-468e-b7eb-06c39a9ab2c2",
   "metadata": {},
   "outputs": [
    {
     "data": {
      "text/plain": [
       "'\\n\\nPython Is A High-Level, General-Purpose Programming Language. \\n\\nIts Design Philosophy Emphasizes Code Readability With The Use Of Significant Indentation.\\n\\nPython Is Dynamically Type-Checked And Garbage-Collected'"
      ]
     },
     "execution_count": 8,
     "metadata": {},
     "output_type": "execute_result"
    }
   ],
   "source": [
    "python.title()"
   ]
  },
  {
   "cell_type": "code",
   "execution_count": 9,
   "id": "8eac9eb5-6ebc-4cf0-b246-ce9b2946ca7d",
   "metadata": {},
   "outputs": [
    {
     "data": {
      "text/plain": [
       "'\\n\\npython is a high-level, general-purpose programming language. \\n\\nits design philosophy emphasizes code readability with the use of significant indentation.\\n\\npython is dynamically type-checked and garbage-collected'"
      ]
     },
     "execution_count": 9,
     "metadata": {},
     "output_type": "execute_result"
    }
   ],
   "source": [
    "python.capitalize()"
   ]
  },
  {
   "cell_type": "code",
   "execution_count": 10,
   "id": "ea229165-29e9-427e-aa04-98b31b42677f",
   "metadata": {},
   "outputs": [],
   "source": [
    "s = \"\""
   ]
  },
  {
   "cell_type": "code",
   "execution_count": 11,
   "id": "642887a3-3867-4dc1-8b6a-ecb6fc616c1a",
   "metadata": {},
   "outputs": [
    {
     "data": {
      "text/plain": [
       "''"
      ]
     },
     "execution_count": 11,
     "metadata": {},
     "output_type": "execute_result"
    }
   ],
   "source": [
    "s.swapcase()"
   ]
  },
  {
   "cell_type": "code",
   "execution_count": 12,
   "id": "ba22fde0-d00d-4928-9924-9c63d998001d",
   "metadata": {},
   "outputs": [],
   "source": [
    "s = \"MachINE LearNING\""
   ]
  },
  {
   "cell_type": "code",
   "execution_count": 13,
   "id": "f1de5063-1eb1-4a20-bf25-66a41203fb85",
   "metadata": {},
   "outputs": [
    {
     "data": {
      "text/plain": [
       "'mACHine lEARning'"
      ]
     },
     "execution_count": 13,
     "metadata": {},
     "output_type": "execute_result"
    }
   ],
   "source": [
    "s.swapcase()"
   ]
  },
  {
   "cell_type": "code",
   "execution_count": 14,
   "id": "af933720-b04d-4c25-b9df-71c08bc8c42f",
   "metadata": {},
   "outputs": [
    {
     "name": "stdout",
     "output_type": "stream",
     "text": [
      "<reversed object at 0x000001C73EECDC30>\n"
     ]
    }
   ],
   "source": [
    "print(reversed(s))"
   ]
  },
  {
   "cell_type": "code",
   "execution_count": 15,
   "id": "ba48a711-4156-4969-aef7-9fb614b71d1c",
   "metadata": {},
   "outputs": [
    {
     "data": {
      "text/plain": [
       "'GNINraeL ENIhcaM'"
      ]
     },
     "execution_count": 15,
     "metadata": {},
     "output_type": "execute_result"
    }
   ],
   "source": [
    "''.join(reversed(s))"
   ]
  },
  {
   "cell_type": "code",
   "execution_count": 16,
   "id": "5c76643d-14a8-4253-8149-1b30c0007003",
   "metadata": {},
   "outputs": [
    {
     "data": {
      "text/plain": [
       "'GNINraeL ENIhcaM'"
      ]
     },
     "execution_count": 16,
     "metadata": {},
     "output_type": "execute_result"
    }
   ],
   "source": [
    "s[::-1]"
   ]
  },
  {
   "cell_type": "code",
   "execution_count": 17,
   "id": "c3a0c1f1-df84-4bf7-8aaf-47d403803a23",
   "metadata": {},
   "outputs": [],
   "source": [
    "s= \"    Data    Science   \""
   ]
  },
  {
   "cell_type": "code",
   "execution_count": 18,
   "id": "75e38f37-908c-4701-b1b4-a0f1958a823d",
   "metadata": {},
   "outputs": [
    {
     "data": {
      "text/plain": [
       "'Data    Science'"
      ]
     },
     "execution_count": 18,
     "metadata": {},
     "output_type": "execute_result"
    }
   ],
   "source": [
    "s.strip()"
   ]
  },
  {
   "cell_type": "code",
   "execution_count": 19,
   "id": "dc15e1c6-8f18-4bdb-8995-909d8f6d3685",
   "metadata": {},
   "outputs": [
    {
     "data": {
      "text/plain": [
       "'Data    Science   '"
      ]
     },
     "execution_count": 19,
     "metadata": {},
     "output_type": "execute_result"
    }
   ],
   "source": [
    "s.lstrip()"
   ]
  },
  {
   "cell_type": "code",
   "execution_count": 20,
   "id": "46d69c63-1a5c-4309-8368-2c5b7e5a888b",
   "metadata": {},
   "outputs": [
    {
     "data": {
      "text/plain": [
       "'    Data    Science'"
      ]
     },
     "execution_count": 20,
     "metadata": {},
     "output_type": "execute_result"
    }
   ],
   "source": [
    "s.rstrip()"
   ]
  },
  {
   "cell_type": "code",
   "execution_count": 22,
   "id": "b9610a6b-25de-4998-be40-23cd6839d205",
   "metadata": {},
   "outputs": [
    {
     "data": {
      "text/plain": [
       "'Maaacahaianaea aLaeaaaranaianag'"
      ]
     },
     "execution_count": 22,
     "metadata": {},
     "output_type": "execute_result"
    }
   ],
   "source": [
    "\"a\".join(\"Machine Learning\")"
   ]
  },
  {
   "cell_type": "code",
   "execution_count": 23,
   "id": "d768da8b-eda5-4cad-9002-e86894a798ce",
   "metadata": {},
   "outputs": [
    {
     "data": {
      "text/plain": [
       "'    Data    Science   '"
      ]
     },
     "execution_count": 23,
     "metadata": {},
     "output_type": "execute_result"
    }
   ],
   "source": [
    "s"
   ]
  },
  {
   "cell_type": "code",
   "execution_count": 24,
   "id": "184c7cfa-3fbd-4e63-9496-45d4b2d171a8",
   "metadata": {},
   "outputs": [],
   "source": [
    "s = \"aimnxt\""
   ]
  },
  {
   "cell_type": "code",
   "execution_count": 25,
   "id": "f576eb9d-8b3a-4dab-83d8-6d6e94364e2a",
   "metadata": {},
   "outputs": [
    {
     "data": {
      "text/plain": [
       "False"
      ]
     },
     "execution_count": 25,
     "metadata": {},
     "output_type": "execute_result"
    }
   ],
   "source": [
    "s.isupper()"
   ]
  },
  {
   "cell_type": "code",
   "execution_count": 26,
   "id": "6b7a2c96-4c06-438c-9146-7d66acd68911",
   "metadata": {},
   "outputs": [
    {
     "data": {
      "text/plain": [
       "'#######aimnxt#######'"
      ]
     },
     "execution_count": 26,
     "metadata": {},
     "output_type": "execute_result"
    }
   ],
   "source": [
    "s.center(20,'#')"
   ]
  },
  {
   "cell_type": "code",
   "execution_count": 27,
   "id": "5bb7b849-d22e-4ade-96cd-66ecd24bf2d6",
   "metadata": {},
   "outputs": [
    {
     "data": {
      "text/plain": [
       "True"
      ]
     },
     "execution_count": 27,
     "metadata": {},
     "output_type": "execute_result"
    }
   ],
   "source": [
    "s.islower()"
   ]
  },
  {
   "cell_type": "code",
   "execution_count": 28,
   "id": "ec7d54be-f555-400e-a622-6ec29989df83",
   "metadata": {},
   "outputs": [],
   "source": [
    "s = 'Amend\\tdatascience\\thyderabad'"
   ]
  },
  {
   "cell_type": "code",
   "execution_count": 29,
   "id": "e1db965d-dbab-4f90-b484-1de7e5e84f0b",
   "metadata": {},
   "outputs": [
    {
     "data": {
      "text/plain": [
       "'Amend   datascience     hyderabad'"
      ]
     },
     "execution_count": 29,
     "metadata": {},
     "output_type": "execute_result"
    }
   ],
   "source": [
    "s.expandtabs()"
   ]
  },
  {
   "cell_type": "code",
   "execution_count": null,
   "id": "d7187560-095b-472b-8291-1f4c8a072b84",
   "metadata": {},
   "outputs": [],
   "source": [
    "import re"
   ]
  }
 ],
 "metadata": {
  "kernelspec": {
   "display_name": "Python [conda env:base]",
   "language": "python",
   "name": "python3"
  },
  "language_info": {
   "codemirror_mode": {
    "name": "ipython",
    "version": 3
   },
   "file_extension": ".py",
   "mimetype": "text/x-python",
   "name": "python",
   "nbconvert_exporter": "python",
   "pygments_lexer": "ipython3",
   "version": "3.13.5"
  }
 },
 "nbformat": 4,
 "nbformat_minor": 5
}
